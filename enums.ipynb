{
 "cells": [
  {
   "cell_type": "markdown",
   "metadata": {},
   "source": [
    "1. Write a  Python program to create an Enum object and display a member name and value."
   ]
  },
  {
   "cell_type": "code",
   "execution_count": 1,
   "metadata": {},
   "outputs": [
    {
     "name": "stdout",
     "output_type": "stream",
     "text": [
      "\n",
      "Member name: Albania\n",
      "Member value: 355\n"
     ]
    }
   ],
   "source": [
    "from enum import Enum\n",
    "class Country(Enum):\n",
    "    Afghanistan = 93\n",
    "    Albania = 355\n",
    "    Algeria = 213\n",
    "    Andorra = 376\n",
    "    Angola = 244\n",
    "    Antarctica = 672\n",
    "print('\\nMember name: {}'.format(Country.Albania.name))\n",
    "print('Member value: {}'.format(Country.Albania.value))"
   ]
  },
  {
   "cell_type": "markdown",
   "metadata": {},
   "source": [
    "2. Write a  Python program that iterates over an enum class and displays each member and their value."
   ]
  },
  {
   "cell_type": "code",
   "execution_count": 2,
   "metadata": {},
   "outputs": [
    {
     "name": "stdout",
     "output_type": "stream",
     "text": [
      "Afghanistan     = 93\n",
      "Albania         = 355\n",
      "Algeria         = 213\n",
      "Andorra         = 376\n",
      "Angola          = 244\n",
      "Antarctica      = 672\n"
     ]
    }
   ],
   "source": [
    "from enum import Enum\n",
    "class Country(Enum):\n",
    "    Afghanistan = 93\n",
    "    Albania = 355\n",
    "    Algeria = 213\n",
    "    Andorra = 376\n",
    "    Angola = 244\n",
    "    Antarctica = 672\n",
    "for data in Country:\n",
    "    print('{:15} = {}'.format(data.name, data.value))"
   ]
  },
  {
   "cell_type": "markdown",
   "metadata": {},
   "source": [
    "3. Write a  Python program to display all the member names of an enum class ordered by their values"
   ]
  },
  {
   "cell_type": "code",
   "execution_count": 3,
   "metadata": {},
   "outputs": [
    {
     "name": "stdout",
     "output_type": "stream",
     "text": [
      "Country Name ordered by Country Code:\n",
      "  Afghanistan\n",
      "  Algeria\n",
      "  Angola\n",
      "  Albania\n",
      "  Andorra\n",
      "  Antarctica\n"
     ]
    }
   ],
   "source": [
    "import enum\n",
    "class Country(enum.IntEnum):\n",
    "    Afghanistan = 93\n",
    "    Albania = 355\n",
    "    Algeria = 213\n",
    "    Andorra = 376\n",
    "    Angola = 244\n",
    "    Antarctica = 672\n",
    "print('Country Name ordered by Country Code:')\n",
    "print('\\n'.join('  ' + c.name for c in sorted(Country)))"
   ]
  },
  {
   "cell_type": "markdown",
   "metadata": {},
   "source": [
    "4. Write a  Python program to get all values from an enum class."
   ]
  },
  {
   "cell_type": "code",
   "execution_count": 4,
   "metadata": {},
   "outputs": [
    {
     "name": "stdout",
     "output_type": "stream",
     "text": [
      "[93, 355, 213, 376, 244, 672]\n"
     ]
    }
   ],
   "source": [
    "from enum import IntEnum\n",
    "class Country(IntEnum):\n",
    "    Afghanistan = 93\n",
    "    Albania = 355\n",
    "    Algeria = 213\n",
    "    Andorra = 376\n",
    "    Angola = 244\n",
    "    Antarctica = 672\n",
    "country_code_list = list(map(int, Country))\n",
    "print(country_code_list)"
   ]
  },
  {
   "cell_type": "markdown",
   "metadata": {},
   "source": [
    "5. Write a Python program to get unique enumeration values."
   ]
  },
  {
   "cell_type": "code",
   "execution_count": 5,
   "metadata": {},
   "outputs": [
    {
     "name": "stdout",
     "output_type": "stream",
     "text": [
      "Afghanistan     = 93\n",
      "Albania         = 355\n",
      "Algeria         = 213\n",
      "Andorra         = 376\n",
      "Angola          = 244\n"
     ]
    }
   ],
   "source": [
    "import enum\n",
    "class Countries(enum.Enum):\n",
    "    Afghanistan = 93\n",
    "    Albania = 355\n",
    "    Algeria = 213\n",
    "    Andorra = 376\n",
    "    Angola = 244\n",
    "    India = 355\n",
    "    USA = 213\n",
    "for result in Countries:\n",
    "    print('{:15} = {}'.format(result.name, result.value))"
   ]
  }
 ],
 "metadata": {
  "kernelspec": {
   "display_name": "Python 3",
   "language": "python",
   "name": "python3"
  },
  "language_info": {
   "codemirror_mode": {
    "name": "ipython",
    "version": 3
   },
   "file_extension": ".py",
   "mimetype": "text/x-python",
   "name": "python",
   "nbconvert_exporter": "python",
   "pygments_lexer": "ipython3",
   "version": "3.12.2"
  }
 },
 "nbformat": 4,
 "nbformat_minor": 2
}
