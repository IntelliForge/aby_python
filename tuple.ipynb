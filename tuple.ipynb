{
 "cells": [
  {
   "cell_type": "markdown",
   "metadata": {},
   "source": [
    "1.  Write a Python program to create a tuple."
   ]
  },
  {
   "cell_type": "code",
   "execution_count": 3,
   "metadata": {},
   "outputs": [
    {
     "name": "stdout",
     "output_type": "stream",
     "text": [
      "()\n"
     ]
    }
   ],
   "source": [
    "x = ()\n",
    "\n",
    "print(x)"
   ]
  },
  {
   "cell_type": "code",
   "execution_count": 4,
   "metadata": {},
   "outputs": [
    {
     "name": "stdout",
     "output_type": "stream",
     "text": [
      "()\n"
     ]
    }
   ],
   "source": [
    "tuplex = tuple()\n",
    "\n",
    "print(tuplex) "
   ]
  },
  {
   "cell_type": "markdown",
   "metadata": {},
   "source": [
    "2. Write a Python program to create a tuple with different data types."
   ]
  },
  {
   "cell_type": "code",
   "execution_count": 5,
   "metadata": {},
   "outputs": [
    {
     "name": "stdout",
     "output_type": "stream",
     "text": [
      "('tuple', False, 3.2, 1)\n"
     ]
    }
   ],
   "source": [
    "tuplex = (\"tuple\", False, 3.2, 1)\n",
    "\n",
    "print(tuplex)"
   ]
  },
  {
   "cell_type": "markdown",
   "metadata": {},
   "source": [
    "3. Write a Python program to create a tuple of numbers and print one item."
   ]
  },
  {
   "cell_type": "code",
   "execution_count": 6,
   "metadata": {},
   "outputs": [
    {
     "name": "stdout",
     "output_type": "stream",
     "text": [
      "(5, 10, 15, 20, 25)\n"
     ]
    }
   ],
   "source": [
    "tuplex = 5, 10, 15, 20, 25\n",
    "\n",
    "print(tuplex)"
   ]
  },
  {
   "cell_type": "code",
   "execution_count": 7,
   "metadata": {},
   "outputs": [
    {
     "name": "stdout",
     "output_type": "stream",
     "text": [
      "(5,)\n"
     ]
    }
   ],
   "source": [
    "tuplex = 5,\n",
    "\n",
    "print(tuplex)"
   ]
  },
  {
   "cell_type": "markdown",
   "metadata": {},
   "source": [
    "4. Write a Python program to unpack a tuple into several variables."
   ]
  },
  {
   "cell_type": "code",
   "execution_count": 9,
   "metadata": {},
   "outputs": [
    {
     "name": "stdout",
     "output_type": "stream",
     "text": [
      "(4, 8, 3)\n",
      "15\n"
     ]
    }
   ],
   "source": [
    "tuplex = 4, 8, 3\n",
    "\n",
    "print(tuplex)\n",
    "\n",
    "n1, n2, n3 = tuplex\n",
    "\n",
    "print(n1 + n2 + n3)"
   ]
  },
  {
   "cell_type": "markdown",
   "metadata": {},
   "source": [
    "5. Write a  Python program to add an item to a tuple."
   ]
  },
  {
   "cell_type": "code",
   "execution_count": 10,
   "metadata": {},
   "outputs": [
    {
     "name": "stdout",
     "output_type": "stream",
     "text": [
      "(4, 6, 2, 8, 3, 1)\n",
      "(4, 6, 2, 8, 3, 1, 9)\n",
      "(4, 6, 2, 8, 3, 15, 20, 25, 4, 6, 2, 8, 3)\n",
      "(4, 6, 2, 8, 3, 15, 20, 25, 4, 6, 2, 8, 3, 30)\n"
     ]
    }
   ],
   "source": [
    "tuplex = (4, 6, 2, 8, 3, 1)\n",
    "\n",
    "print(tuplex)\n",
    "\n",
    "tuplex = tuplex + (9,)\n",
    "\n",
    "print(tuplex)\n",
    "\n",
    "tuplex = tuplex[:5] + (15, 20, 25) + tuplex[:5]\n",
    "\n",
    "print(tuplex)\n",
    "\n",
    "listx = list(tuplex)\n",
    "\n",
    "listx.append(30)\n",
    "\n",
    "tuplex = tuple(listx)\n",
    "\n",
    "print(tuplex) "
   ]
  },
  {
   "cell_type": "markdown",
   "metadata": {},
   "source": [
    "6. Write a Python program to convert a tuple to a string."
   ]
  },
  {
   "cell_type": "code",
   "execution_count": 11,
   "metadata": {},
   "outputs": [
    {
     "name": "stdout",
     "output_type": "stream",
     "text": [
      "exercises\n"
     ]
    }
   ],
   "source": [
    "tup = ('e', 'x', 'e', 'r', 'c', 'i', 's', 'e', 's')\n",
    "\n",
    "str = ''.join(tup)\n",
    "\n",
    "print(str)"
   ]
  },
  {
   "cell_type": "markdown",
   "metadata": {},
   "source": [
    "7. Write a Python program to get the 4th element from the last element of a tuple."
   ]
  },
  {
   "cell_type": "code",
   "execution_count": 12,
   "metadata": {},
   "outputs": [
    {
     "name": "stdout",
     "output_type": "stream",
     "text": [
      "('w', 3, 'r', 'e', 's', 'o', 'u', 'r', 'c', 'e')\n",
      "e\n",
      "u\n"
     ]
    }
   ],
   "source": [
    "tuplex = (\"w\", 3, \"r\", \"e\", \"s\", \"o\", \"u\", \"r\", \"c\", \"e\")\n",
    "\n",
    "print(tuplex)\n",
    "\n",
    "item = tuplex[3]\n",
    "\n",
    "print(item)\n",
    "\n",
    "item1 = tuplex[-4]\n",
    "\n",
    "print(item1) "
   ]
  },
  {
   "cell_type": "markdown",
   "metadata": {},
   "source": [
    "8. Write a Python program to create the colon of a tuple."
   ]
  },
  {
   "cell_type": "code",
   "execution_count": 13,
   "metadata": {},
   "outputs": [
    {
     "name": "stdout",
     "output_type": "stream",
     "text": [
      "('HELLO', 5, [], True)\n",
      "('HELLO', 5, [50], True)\n",
      "('HELLO', 5, [], True)\n"
     ]
    }
   ],
   "source": [
    "from copy import deepcopy\n",
    "\n",
    "tuplex = (\"HELLO\", 5, [], True)\n",
    "\n",
    "print(tuplex)\n",
    "\n",
    "tuplex_colon = deepcopy(tuplex)\n",
    "\n",
    "tuplex_colon[2].append(50)\n",
    "\n",
    "print(tuplex_colon)\n",
    "\n",
    "print(tuplex) "
   ]
  },
  {
   "cell_type": "markdown",
   "metadata": {},
   "source": [
    "9. Write a Python program to find repeated items in a tuple."
   ]
  },
  {
   "cell_type": "code",
   "execution_count": 14,
   "metadata": {},
   "outputs": [
    {
     "name": "stdout",
     "output_type": "stream",
     "text": [
      "(2, 4, 5, 6, 2, 3, 4, 4, 7)\n",
      "3\n"
     ]
    }
   ],
   "source": [
    "tuplex = 2, 4, 5, 6, 2, 3, 4, 4, 7\n",
    "\n",
    "print(tuplex)\n",
    "\n",
    "count = tuplex.count(4)\n",
    "\n",
    "print(count) "
   ]
  },
  {
   "cell_type": "markdown",
   "metadata": {},
   "source": [
    "10. Write a Python program to check whether an element exists within a tuple."
   ]
  },
  {
   "cell_type": "code",
   "execution_count": 15,
   "metadata": {},
   "outputs": [
    {
     "name": "stdout",
     "output_type": "stream",
     "text": [
      "True\n",
      "False\n"
     ]
    }
   ],
   "source": [
    "tuplex = (\"w\", 3, \"r\", \"e\", \"s\", \"o\", \"u\", \"r\", \"c\", \"e\")\n",
    "\n",
    "print(\"r\" in tuplex)\n",
    "\n",
    "print(5 in tuplex)"
   ]
  },
  {
   "cell_type": "markdown",
   "metadata": {},
   "source": [
    "11. Write a Python program to convert a list to a tuple."
   ]
  },
  {
   "cell_type": "code",
   "execution_count": 16,
   "metadata": {},
   "outputs": [
    {
     "name": "stdout",
     "output_type": "stream",
     "text": [
      "[5, 10, 7, 4, 15, 3]\n",
      "(5, 10, 7, 4, 15, 3)\n"
     ]
    }
   ],
   "source": [
    "listx = [5, 10, 7, 4, 15, 3]\n",
    "\n",
    "print(listx)\n",
    "\n",
    "tuplex = tuple(listx)\n",
    "\n",
    "print(tuplex)"
   ]
  },
  {
   "cell_type": "markdown",
   "metadata": {},
   "source": [
    "12. Write a Python program to remove an item from a tuple."
   ]
  },
  {
   "cell_type": "code",
   "execution_count": 17,
   "metadata": {},
   "outputs": [
    {
     "name": "stdout",
     "output_type": "stream",
     "text": [
      "('w', 3, 'r', 's', 'o', 'u', 'r', 'c', 'e')\n",
      "('w', 3, 's', 'o', 'u', 'r', 'c', 'e')\n",
      "('w', 3, 's', 'o', 'u', 'r', 'e')\n"
     ]
    }
   ],
   "source": [
    "tuplex = \"w\", 3, \"r\", \"s\", \"o\", \"u\", \"r\", \"c\", \"e\"\n",
    "\n",
    "print(tuplex)\n",
    "\n",
    "tuplex = tuplex[:2] + tuplex[3:]\n",
    "\n",
    "print(tuplex)\n",
    "\n",
    "listx = list(tuplex)\n",
    "\n",
    "listx.remove(\"c\")\n",
    "\n",
    "tuplex = tuple(listx)\n",
    "\n",
    "print(tuplex) "
   ]
  },
  {
   "cell_type": "markdown",
   "metadata": {},
   "source": [
    "13. Write a  Python program to convert a tuple to a dictionary."
   ]
  },
  {
   "cell_type": "code",
   "execution_count": 20,
   "metadata": {},
   "outputs": [
    {
     "name": "stdout",
     "output_type": "stream",
     "text": [
      "{'w': 2, 'r': 3}\n"
     ]
    }
   ],
   "source": [
    "tuplex = ((2, \"w\"), (3, \"r\"))\n",
    "\n",
    "result_dict = dict((y, x) for x, y in tuplex)\n",
    "\n",
    "print(result_dict) "
   ]
  },
  {
   "cell_type": "markdown",
   "metadata": {},
   "source": [
    "14. Write a  Python program to unzip a list of tuples into individual lists."
   ]
  },
  {
   "cell_type": "code",
   "execution_count": 21,
   "metadata": {},
   "outputs": [
    {
     "name": "stdout",
     "output_type": "stream",
     "text": [
      "[(1, 3, 8), (2, 4, 9)]\n"
     ]
    }
   ],
   "source": [
    "l = [(1, 2), (3, 4), (8, 9)]\n",
    "\n",
    "result = list(zip(*l))\n",
    "\n",
    "print(result)"
   ]
  },
  {
   "cell_type": "markdown",
   "metadata": {},
   "source": [
    "15. Write a Python program to reverse a tuple."
   ]
  },
  {
   "cell_type": "code",
   "execution_count": 23,
   "metadata": {},
   "outputs": [
    {
     "name": "stdout",
     "output_type": "stream",
     "text": [
      "('e', 'c', 'r', 'u', 'o', 's', 'e', 'r', '3', 'w')\n"
     ]
    }
   ],
   "source": [
    "x = (\"w3resource\")\n",
    "\n",
    "y = reversed(x)\n",
    "print(tuple(y))"
   ]
  },
  {
   "cell_type": "code",
   "execution_count": 24,
   "metadata": {},
   "outputs": [
    {
     "name": "stdout",
     "output_type": "stream",
     "text": [
      "(20, 15, 10, 5)\n"
     ]
    }
   ],
   "source": [
    "x = (5, 10, 15, 20)\n",
    "\n",
    "y = reversed(x)\n",
    "print(tuple(y)) "
   ]
  },
  {
   "cell_type": "markdown",
   "metadata": {},
   "source": [
    "16. Write a  Python program to convert a list of tuples into a dictionary."
   ]
  },
  {
   "cell_type": "code",
   "execution_count": 25,
   "metadata": {},
   "outputs": [
    {
     "name": "stdout",
     "output_type": "stream",
     "text": [
      "{'x': [1, 2, 3], 'y': [1, 2], 'z': [1]}\n"
     ]
    }
   ],
   "source": [
    "l = [(\"x\", 1), (\"x\", 2), (\"x\", 3), (\"y\", 1), (\"y\", 2), (\"z\", 1)]\n",
    "\n",
    "d = {}\n",
    "\n",
    "for a, b in l:\n",
    "    \n",
    "    d.setdefault(a, []).append(b)\n",
    "\n",
    "print(d) "
   ]
  },
  {
   "cell_type": "markdown",
   "metadata": {},
   "source": [
    "17. Write a  Python program to print a tuple with string formatting."
   ]
  },
  {
   "cell_type": "code",
   "execution_count": 26,
   "metadata": {},
   "outputs": [
    {
     "name": "stdout",
     "output_type": "stream",
     "text": [
      "This is a tuple (100, 200, 300)\n"
     ]
    }
   ],
   "source": [
    "t = (100, 200, 300)\n",
    "\n",
    "print('This is a tuple {0}'.format(t))"
   ]
  },
  {
   "cell_type": "markdown",
   "metadata": {},
   "source": [
    "18. Write a Python program to remove an empty tuple(s) from a list of tuples."
   ]
  },
  {
   "cell_type": "code",
   "execution_count": 27,
   "metadata": {},
   "outputs": [
    {
     "name": "stdout",
     "output_type": "stream",
     "text": [
      "[('',), ('a', 'b'), ('a', 'b', 'c'), 'd']\n"
     ]
    }
   ],
   "source": [
    "L = [(), (), ('',), ('a', 'b'), ('a', 'b', 'c'), ('d')]\n",
    "\n",
    "L = [t for t in L if t]\n",
    "print(L) "
   ]
  },
  {
   "cell_type": "markdown",
   "metadata": {},
   "source": [
    "19. Write a Python program to count the elements in a list until an element is a tuple."
   ]
  },
  {
   "cell_type": "code",
   "execution_count": 28,
   "metadata": {},
   "outputs": [
    {
     "name": "stdout",
     "output_type": "stream",
     "text": [
      "3\n"
     ]
    }
   ],
   "source": [
    "num = [10, 20, 30, (10, 20), 40]\n",
    "\n",
    "ctr = 0\n",
    "\n",
    "for n in num:\n",
    "    \n",
    "    if isinstance(n, tuple):\n",
    "       \n",
    "        break\n",
    "    \n",
    "    ctr += 1\n",
    "\n",
    "print(ctr) "
   ]
  },
  {
   "cell_type": "markdown",
   "metadata": {},
   "source": [
    "20. Write a Python program to convert a given string list to a tuple."
   ]
  },
  {
   "cell_type": "code",
   "execution_count": 29,
   "metadata": {},
   "outputs": [
    {
     "name": "stdout",
     "output_type": "stream",
     "text": [
      "Original string:\n",
      "python 3.0\n",
      "<class 'str'>\n",
      "Convert the said string to a tuple:\n",
      "('p', 'y', 't', 'h', 'o', 'n', '3', '.', '0')\n",
      "<class 'tuple'>\n"
     ]
    }
   ],
   "source": [
    "def string_list_to_tuple(str1):\n",
    "    \n",
    "    result = tuple(x for x in str1 if not x.isspace())\n",
    "    \n",
    "    return result\n",
    "\n",
    "str1 = \"python 3.0\"\n",
    "\n",
    "print(\"Original string:\")\n",
    "print(str1)\n",
    "\n",
    "print(type(str1))\n",
    "\n",
    "print(\"Convert the said string to a tuple:\")\n",
    "\n",
    "print(string_list_to_tuple(str1))\n",
    "\n",
    "print(type(string_list_to_tuple(str1))) "
   ]
  },
  {
   "cell_type": "markdown",
   "metadata": {},
   "source": [
    "21. Write a Python program to compute the element-wise sum of given tuples."
   ]
  },
  {
   "cell_type": "code",
   "execution_count": 30,
   "metadata": {},
   "outputs": [
    {
     "name": "stdout",
     "output_type": "stream",
     "text": [
      "Original lists:\n",
      "(1, 2, 3, 4)\n",
      "(3, 5, 2, 1)\n",
      "(2, 2, 3, 1)\n",
      "\n",
      "Element-wise sum of the said tuples:\n",
      "(6, 9, 8, 6)\n"
     ]
    }
   ],
   "source": [
    "x = (1, 2, 3, 4)\n",
    "y = (3, 5, 2, 1)\n",
    "z = (2, 2, 3, 1)\n",
    "\n",
    "print(\"Original lists:\")\n",
    "print(x)\n",
    "print(y)\n",
    "print(z)\n",
    "\n",
    "result = tuple(map(sum, zip(x, y, z)))\n",
    "\n",
    "print(\"\\nElement-wise sum of the said tuples:\")\n",
    "print(result)"
   ]
  },
  {
   "cell_type": "markdown",
   "metadata": {},
   "source": [
    "22. Write a  Python program to convert a tuple of string values to a tuple of integer values."
   ]
  },
  {
   "cell_type": "code",
   "execution_count": 31,
   "metadata": {},
   "outputs": [
    {
     "name": "stdout",
     "output_type": "stream",
     "text": [
      "Original tuple values:\n",
      "(('333', '33'), ('1416', '55'))\n",
      "\n",
      "New tuple values:\n",
      "((333, 33), (1416, 55))\n"
     ]
    }
   ],
   "source": [
    "def tuple_int_str(tuple_str):\n",
    "    \n",
    "    result = tuple((int(x[0]), int(x[1])) for x in tuple_str)\n",
    "    \n",
    "    return result\n",
    "\n",
    "tuple_str = (('333', '33'), ('1416', '55'))\n",
    "\n",
    "print(\"Original tuple values:\")\n",
    "\n",
    "print(tuple_str)\n",
    "\n",
    "print(\"\\nNew tuple values:\")\n",
    "\n",
    "print(tuple_int_str(tuple_str))"
   ]
  }
 ],
 "metadata": {
  "kernelspec": {
   "display_name": "Python 3",
   "language": "python",
   "name": "python3"
  },
  "language_info": {
   "codemirror_mode": {
    "name": "ipython",
    "version": 3
   },
   "file_extension": ".py",
   "mimetype": "text/x-python",
   "name": "python",
   "nbconvert_exporter": "python",
   "pygments_lexer": "ipython3",
   "version": "3.12.2"
  }
 },
 "nbformat": 4,
 "nbformat_minor": 2
}
