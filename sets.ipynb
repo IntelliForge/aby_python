{
 "cells": [
  {
   "cell_type": "markdown",
   "metadata": {},
   "source": [
    "1. Write a  Python program to create a set."
   ]
  },
  {
   "cell_type": "code",
   "execution_count": 1,
   "metadata": {},
   "outputs": [
    {
     "name": "stdout",
     "output_type": "stream",
     "text": [
      "Create a new set:\n",
      "set()\n",
      "<class 'set'>\n",
      "\n",
      "Create a non-empty set:\n",
      "{0, 1, 2, 3, 4}\n",
      "<class 'set'>\n",
      "\n",
      "Using a literal:\n",
      "<class 'set'>\n",
      "{'bar', 1, 2, 3, 'foo'}\n"
     ]
    }
   ],
   "source": [
    "print(\"Create a new set:\")\n",
    "\n",
    "x = set()\n",
    "\n",
    "print(x)\n",
    "\n",
    "print(type(x))\n",
    "\n",
    "print(\"\\nCreate a non-empty set:\")\n",
    "\n",
    "n = set([0, 1, 2, 3, 4])\n",
    "\n",
    "print(n)\n",
    "\n",
    "print(type(n))\n",
    "\n",
    "print(\"\\nUsing a literal:\")\n",
    "\n",
    "a = {1, 2, 3, 'foo', 'bar'}\n",
    "\n",
    "print(type(a))\n",
    "\n",
    "print(a) \n"
   ]
  },
  {
   "cell_type": "markdown",
   "metadata": {},
   "source": [
    "2. Write a  Python program to iterate over sets."
   ]
  },
  {
   "cell_type": "code",
   "execution_count": 2,
   "metadata": {},
   "outputs": [
    {
     "name": "stdout",
     "output_type": "stream",
     "text": [
      "0 1 2 3 4 5 \n",
      "\n",
      "Creating a set using string:\n"
     ]
    }
   ],
   "source": [
    "num_set = set([0, 1, 2, 3, 4, 5])\n",
    "\n",
    "for n in num_set:\n",
    "    print(n, end=' ')\n",
    "\n",
    "print(\"\\n\\nCreating a set using string:\")"
   ]
  },
  {
   "cell_type": "code",
   "execution_count": 3,
   "metadata": {},
   "outputs": [
    {
     "name": "stdout",
     "output_type": "stream",
     "text": [
      "w e r o s u 3 c "
     ]
    }
   ],
   "source": [
    "char_set = set(\"w3resource\")\n",
    "\n",
    "for val in char_set:\n",
    "    print(val, end=' ') "
   ]
  },
  {
   "cell_type": "markdown",
   "metadata": {},
   "source": [
    "3. Write a  Python program to add member(s) to a set."
   ]
  },
  {
   "cell_type": "code",
   "execution_count": 4,
   "metadata": {},
   "outputs": [
    {
     "name": "stdout",
     "output_type": "stream",
     "text": [
      "set()\n",
      "\n",
      "Add single element:\n"
     ]
    }
   ],
   "source": [
    "color_set = set()\n",
    "\n",
    "print(color_set)\n",
    "\n",
    "print(\"\\nAdd single element:\")"
   ]
  },
  {
   "cell_type": "code",
   "execution_count": 5,
   "metadata": {},
   "outputs": [
    {
     "name": "stdout",
     "output_type": "stream",
     "text": [
      "{'Red'}\n",
      "\n",
      "Add multiple items:\n"
     ]
    }
   ],
   "source": [
    "color_set.add(\"Red\")\n",
    "\n",
    "print(color_set)\n",
    "\n",
    "print(\"\\nAdd multiple items:\")"
   ]
  },
  {
   "cell_type": "code",
   "execution_count": 6,
   "metadata": {},
   "outputs": [
    {
     "name": "stdout",
     "output_type": "stream",
     "text": [
      "{'Blue', 'Red', 'Green'}\n"
     ]
    }
   ],
   "source": [
    "color_set.update([\"Blue\", \"Green\"])\n",
    "\n",
    "print(color_set) "
   ]
  },
  {
   "cell_type": "markdown",
   "metadata": {},
   "source": [
    "4. Write a Python program to remove item(s) from a given set."
   ]
  },
  {
   "cell_type": "code",
   "execution_count": 7,
   "metadata": {},
   "outputs": [
    {
     "name": "stdout",
     "output_type": "stream",
     "text": [
      "Original set:\n",
      "{0, 1, 3, 4, 5}\n"
     ]
    }
   ],
   "source": [
    "num_set = set([0, 1, 3, 4, 5])\n",
    "\n",
    "print(\"Original set:\")\n",
    "\n",
    "print(num_set)"
   ]
  },
  {
   "cell_type": "code",
   "execution_count": 8,
   "metadata": {},
   "outputs": [
    {
     "name": "stdout",
     "output_type": "stream",
     "text": [
      "\n",
      "After removing the first element from the said set:\n",
      "{1, 3, 4, 5}\n"
     ]
    }
   ],
   "source": [
    "num_set.pop()\n",
    "\n",
    "print(\"\\nAfter removing the first element from the said set:\")\n",
    "\n",
    "print(num_set) "
   ]
  },
  {
   "cell_type": "markdown",
   "metadata": {},
   "source": [
    "5. Write a  Python program to remove an item from a set if it is present in the set."
   ]
  },
  {
   "cell_type": "code",
   "execution_count": 9,
   "metadata": {},
   "outputs": [
    {
     "name": "stdout",
     "output_type": "stream",
     "text": [
      "Original set elements:\n",
      "{0, 1, 2, 3, 4, 5}\n",
      "\n",
      "Remove 0 from the said set:\n",
      "{0, 1, 2, 3, 5}\n",
      "\n",
      "Remove 5 from the said set:\n",
      "{0, 1, 2, 3}\n",
      "\n",
      "Remove 2 from the said set:\n",
      "{0, 1, 2, 3}\n",
      "\n",
      "Remove 7 from the said set:\n",
      "{0, 1, 2, 3}\n"
     ]
    }
   ],
   "source": [
    "num_set = set([0, 1, 2, 3, 4, 5])\n",
    "\n",
    "print(\"Original set elements:\")\n",
    "\n",
    "print(num_set)\n",
    "\n",
    "print(\"\\nRemove 0 from the said set:\")\n",
    "\n",
    "num_set.discard(4)\n",
    "\n",
    "print(num_set)\n",
    "\n",
    "print(\"\\nRemove 5 from the said set:\")\n",
    "\n",
    "num_set.discard(5)\n",
    "\n",
    "print(num_set)\n",
    "\n",
    "print(\"\\nRemove 2 from the said set:\")\n",
    "\n",
    "num_set.discard(5)\n",
    "\n",
    "print(num_set)\n",
    "\n",
    "print(\"\\nRemove 7 from the said set:\")\n",
    "\n",
    "num_set.discard(15)\n",
    "\n",
    "print(num_set)  \n"
   ]
  },
  {
   "cell_type": "markdown",
   "metadata": {},
   "source": [
    "6. Write a  Python program to create an intersection of sets."
   ]
  },
  {
   "cell_type": "code",
   "execution_count": 10,
   "metadata": {},
   "outputs": [
    {
     "name": "stdout",
     "output_type": "stream",
     "text": [
      "Original set elements:\n",
      "{'blue', 'green'}\n",
      "{'blue', 'yellow'}\n",
      "\n",
      "Intersection of two said sets:\n",
      "{'blue'}\n"
     ]
    }
   ],
   "source": [
    "setx = set([\"green\", \"blue\"])\n",
    "\n",
    "sety = set([\"blue\", \"yellow\"])\n",
    "\n",
    "print(\"Original set elements:\")\n",
    "\n",
    "print(setx)\n",
    "\n",
    "print(sety)\n",
    "\n",
    "print(\"\\nIntersection of two said sets:\")\n",
    "\n",
    "setz = setx & sety\n",
    "\n",
    "print(setz)"
   ]
  },
  {
   "cell_type": "markdown",
   "metadata": {},
   "source": [
    "7. Write a  Python program to create a shallow copy of sets."
   ]
  },
  {
   "cell_type": "code",
   "execution_count": 11,
   "metadata": {},
   "outputs": [
    {
     "name": "stdout",
     "output_type": "stream",
     "text": [
      "{'Red', 'Green'}\n"
     ]
    }
   ],
   "source": [
    "setp = set([\"Red\", \"Green\"])\n",
    "\n",
    "setq = set([\"Green\", \"Red\"])\n",
    "\n",
    "setr = setp.copy()\n",
    "\n",
    "print(setr) "
   ]
  },
  {
   "cell_type": "markdown",
   "metadata": {},
   "source": [
    "8. Write a  Python program to remove all elements from a given set."
   ]
  },
  {
   "cell_type": "code",
   "execution_count": 12,
   "metadata": {},
   "outputs": [
    {
     "name": "stdout",
     "output_type": "stream",
     "text": [
      "Original set elements:\n",
      "{'Black', 'White', 'Green', 'Red'}\n",
      "\n",
      "After removing all elements of the said set.\n",
      "set()\n"
     ]
    }
   ],
   "source": [
    "setc = {\"Red\", \"Green\", \"Black\", \"White\"}\n",
    "\n",
    "print(\"Original set elements:\")\n",
    "\n",
    "print(setc)\n",
    "\n",
    "print(\"\\nAfter removing all elements of the said set.\")\n",
    "\n",
    "setc.clear()\n",
    "\n",
    "print(setc) "
   ]
  },
  {
   "cell_type": "markdown",
   "metadata": {},
   "source": [
    "9. Write a  Python program that uses frozensets."
   ]
  },
  {
   "cell_type": "code",
   "execution_count": 13,
   "metadata": {},
   "outputs": [
    {
     "name": "stdout",
     "output_type": "stream",
     "text": [
      "False\n",
      "frozenset({1, 2})\n",
      "frozenset({1, 2, 3, 4, 5, 6, 7})\n"
     ]
    }
   ],
   "source": [
    "x = frozenset([1, 2, 3, 4, 5])\n",
    "\n",
    "y = frozenset([3, 4, 5, 6, 7])\n",
    "\n",
    "print(x.isdisjoint(y))\n",
    "\n",
    "print(x.difference(y))\n",
    "\n",
    "print(x | y) "
   ]
  },
  {
   "cell_type": "markdown",
   "metadata": {},
   "source": [
    "10. Write a  Python program to find the maximum and minimum values in a set."
   ]
  },
  {
   "cell_type": "code",
   "execution_count": 14,
   "metadata": {},
   "outputs": [
    {
     "name": "stdout",
     "output_type": "stream",
     "text": [
      "Original set elements:\n",
      "{2, 3, 20, 5, 10, 15}\n",
      "<class 'set'>\n",
      "\n",
      "Maximum value of the said set:\n",
      "20\n",
      "\n",
      "Minimum value of the said set:\n",
      "2\n"
     ]
    }
   ],
   "source": [
    "setn = {5, 10, 3, 15, 2, 20}\n",
    "\n",
    "print(\"Original set elements:\")\n",
    "\n",
    "print(setn)\n",
    "\n",
    "print(type(setn))\n",
    "\n",
    "print(\"\\nMaximum value of the said set:\")\n",
    "\n",
    "print(max(setn))\n",
    "\n",
    "print(\"\\nMinimum value of the said set:\")\n",
    "\n",
    "print(min(setn)) "
   ]
  },
  {
   "cell_type": "markdown",
   "metadata": {},
   "source": [
    "11. Write a  Python program that finds all pairs of elements in a list whose sum is equal to a given value."
   ]
  },
  {
   "cell_type": "code",
   "execution_count": 15,
   "metadata": {},
   "outputs": [
    {
     "name": "stdout",
     "output_type": "stream",
     "text": [
      "Original list of numbers:\n",
      "[10, 11, 12, 13, 14, 15, 16, 17, 18, 19, 20]\n",
      "Target value: 35\n",
      "Find all pairs in the said list whose sum is equal to a target value:\n",
      "[{20, 15}, {16, 19}, {17, 18}, {17, 18}, {16, 19}, {20, 15}]\n",
      "\n",
      "Original list of numbers:\n",
      "[1, 2, 3, 4, 5]\n",
      "Target value: 5\n",
      "Find all pairs in the said list whose sum is equal to a target value:\n",
      "[{1, 4}, {2, 3}, {2, 3}, {1, 4}]\n"
     ]
    }
   ],
   "source": [
    "def find_pairs(nums, target_val):\n",
    "    nums_set = set(nums)\n",
    "    pairs = []\n",
    "    for n in nums_set:\n",
    "        \n",
    "        complement = target_val - n\n",
    "        \n",
    "        if complement in nums_set:\n",
    "            pairs.append({n, complement})\n",
    "    \n",
    "    return pairs\n",
    "nums = [10, 11, 12, 13, 14, 15, 16, 17, 18, 19, 20]\n",
    "print(\"Original list of numbers:\")\n",
    "print(nums)\n",
    "target_val = 35\n",
    "print(\"Target value:\",target_val)\n",
    "print(\"Find all pairs in the said list whose sum is equal to a target value:\")\n",
    "print(find_pairs(nums, target_val))\n",
    "nums = [1, 2, 3, 4, 5]\n",
    "print(\"\\nOriginal list of numbers:\")\n",
    "print(nums)\n",
    "target_val = 5\n",
    "print(\"Target value:\",target_val)\n",
    "print(\"Find all pairs in the said list whose sum is equal to a target value:\")\n",
    "print(find_pairs(nums, target_val))\n"
   ]
  },
  {
   "cell_type": "markdown",
   "metadata": {},
   "source": [
    "12. Write a  Python program to find the third largest number from a given list of numbers.Use the  Python set data type."
   ]
  },
  {
   "cell_type": "code",
   "execution_count": 16,
   "metadata": {},
   "outputs": [
    {
     "name": "stdout",
     "output_type": "stream",
     "text": [
      "Original list of numbers:\n",
      "[1, 2, 3, 4, 5, 6, 7, 8, 9]\n",
      "Third largest number of the said list of numbers:\n",
      "7\n",
      "\n",
      "Original list of numbers:\n",
      "[1, 2, 3, 4, 5, 5, 6, 7, 7, 8, 8, 9, 10]\n",
      "Third largest number of the said list of numbers:\n",
      "8\n",
      "\n",
      "Original list of numbers:\n",
      "[1, 2, 3]\n",
      "Third largest number of the said list of numbers:\n",
      "1\n",
      "\n",
      "Original list of numbers:\n",
      "[1, 2, 2]\n",
      "Third largest number of the said list of numbers:\n",
      "None\n",
      "\n",
      "Original list of numbers:\n",
      "[1, 2]\n",
      "Third largest number of the said list of numbers:\n",
      "None\n"
     ]
    }
   ],
   "source": [
    "def third_largest(nums):\n",
    "    \n",
    "    nums = set(nums)\n",
    "    \n",
    "    if len(nums) < 3:\n",
    "        return None\n",
    "    \n",
    "    nums = list(nums)\n",
    "    nums.sort(reverse=True)\n",
    "    \n",
    "    return nums[2]\n",
    "\n",
    "nums = [1, 2, 3, 4, 5, 6, 7, 8, 9]\n",
    "print(\"Original list of numbers:\")\n",
    "print(nums)\n",
    "\n",
    "print(\"Third largest number of the said list of numbers:\")\n",
    "print(third_largest(nums))\n",
    "\n",
    "nums = [1, 2, 3, 4, 5, 5, 6, 7, 7, 8, 8, 9, 10]\n",
    "print(\"\\nOriginal list of numbers:\")\n",
    "print(nums)\n",
    "print(\"Third largest number of the said list of numbers:\")\n",
    "print(third_largest(nums))\n",
    "\n",
    "nums = [1, 2, 3]\n",
    "print(\"\\nOriginal list of numbers:\")\n",
    "print(nums)\n",
    "print(\"Third largest number of the said list of numbers:\")\n",
    "print(third_largest(nums))\n",
    "\n",
    "nums = [1, 2, 2]\n",
    "print(\"\\nOriginal list of numbers:\")\n",
    "print(nums)\n",
    "print(\"Third largest number of the said list of numbers:\")\n",
    "print(third_largest(nums))\n",
    "\n",
    "nums = [1, 2]\n",
    "print(\"\\nOriginal list of numbers:\")\n",
    "print(nums)\n",
    "print(\"Third largest number of the said list of numbers:\")\n",
    "print(third_largest(nums)) \n"
   ]
  }
 ],
 "metadata": {
  "kernelspec": {
   "display_name": "dblearn",
   "language": "python",
   "name": "python3"
  },
  "language_info": {
   "codemirror_mode": {
    "name": "ipython",
    "version": 3
   },
   "file_extension": ".py",
   "mimetype": "text/x-python",
   "name": "python",
   "nbconvert_exporter": "python",
   "pygments_lexer": "ipython3",
   "version": "3.12.1"
  }
 },
 "nbformat": 4,
 "nbformat_minor": 2
}
