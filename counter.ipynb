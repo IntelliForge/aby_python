{
 "cells": [
  {
   "cell_type": "markdown",
   "metadata": {},
   "source": [
    "1. Write a  Python program to create a 'Counter' of the letters in the string \" Python Exercise!\"."
   ]
  },
  {
   "cell_type": "code",
   "execution_count": 1,
   "metadata": {},
   "outputs": [
    {
     "name": "stdout",
     "output_type": "stream",
     "text": [
      "Letter Counter:\n",
      "A: 1\n",
      "b: 1\n",
      "y: 1\n"
     ]
    }
   ],
   "source": [
    "from collections import Counter\n",
    "\n",
    "text = \"Aby!\"\n",
    "letter_counter = Counter(text)\n",
    "\n",
    "print(\"Letter Counter:\")\n",
    "for letter, count in letter_counter.items():\n",
    "    if letter.isalpha():\n",
    "        print(f\"{letter}: {count}\")\n"
   ]
  },
  {
   "cell_type": "markdown",
   "metadata": {},
   "source": [
    "2. Write a Python program that creates a 'Counter' from a list of elements and print the most common elements along with their counts."
   ]
  },
  {
   "cell_type": "code",
   "execution_count": 2,
   "metadata": {},
   "outputs": [
    {
     "name": "stdout",
     "output_type": "stream",
     "text": [
      "Most Common Elements:\n",
      "3: 4\n",
      "1: 2\n",
      "2: 1\n",
      "4: 1\n",
      "5: 1\n",
      "11: 1\n",
      "6: 1\n",
      "7: 1\n",
      "8: 1\n",
      "9: 1\n",
      "10: 1\n"
     ]
    }
   ],
   "source": [
    "from collections import Counter\n",
    "\n",
    "elements = [1, 2, 3, 4, 5, 11, 3, 3, 6, 7, 8, 9, 3, 10, 1]\n",
    "element_counter = Counter(elements)\n",
    "\n",
    "print(\"Most Common Elements:\")\n",
    "for element, count in element_counter.most_common():\n",
    "    print(f\"{element}: {count}\")\n"
   ]
  },
  {
   "cell_type": "markdown",
   "metadata": {},
   "source": [
    "3. Write a Python program that creates a counter of the vowels in the word \"Python Exercises\"."
   ]
  },
  {
   "cell_type": "code",
   "execution_count": 3,
   "metadata": {},
   "outputs": [
    {
     "name": "stdout",
     "output_type": "stream",
     "text": [
      "Vowel Counts:\n",
      "o: 1\n",
      "E: 1\n",
      "e: 2\n",
      "i: 1\n"
     ]
    }
   ],
   "source": [
    "from collections import Counter\n",
    "\n",
    "word = \"Python Exercises\"\n",
    "vowels = \"aeiouAEIOU\"  # List of vowels\n",
    "\n",
    "vowel_ctr = Counter(c for c in word if c in vowels)\n",
    "\n",
    "print(\"Vowel Counts:\")\n",
    "for vowel, count in vowel_ctr.items():\n",
    "    print(f\"{vowel}: {count}\")\n"
   ]
  },
  {
   "cell_type": "markdown",
   "metadata": {},
   "source": [
    "4. Write a  Python program that creates a counter of the words in a sentence and prints the words in ascending and descending order of their frequency."
   ]
  },
  {
   "cell_type": "code",
   "execution_count": 4,
   "metadata": {},
   "outputs": [
    {
     "name": "stdout",
     "output_type": "stream",
     "text": [
      "Words in Ascending Order:\n",
      "Green: 1\n",
      "red: 1\n",
      "Orange: 1\n",
      "White.: 1\n",
      "Black: 2\n",
      "Pink: 2\n",
      "Red: 3\n",
      "\n",
      "\n",
      "Words in Descending Order:\n",
      "Red: 3\n",
      "Black: 2\n",
      "Pink: 2\n",
      "Green: 1\n",
      "red: 1\n",
      "Orange: 1\n",
      "White.: 1\n"
     ]
    }
   ],
   "source": [
    "from collections import Counter\n",
    "\n",
    "def main():\n",
    "    sentence = \"Red Green Black Black Red red Orange Pink Pink Red White.\"\n",
    "    \n",
    "    # Split the sentence into words\n",
    "    words = sentence.split()\n",
    "    \n",
    "    # Create a Counter of the words\n",
    "    word_counter = Counter(words)\n",
    "    \n",
    "    # Print words in ascending order of their frequencies\n",
    "    print(\"Words in Ascending Order:\")\n",
    "    sorted_words_asc = sorted(word_counter.items(), key=lambda item: item[1])\n",
    "    for word, count in sorted_words_asc:\n",
    "        print(f\"{word}: {count}\")\n",
    "    \n",
    "    print(\"\\n\")\n",
    "    \n",
    "    # Print words in descending order of their frequencies\n",
    "    print(\"Words in Descending Order:\")\n",
    "    sorted_words_desc = sorted(word_counter.items(), key=lambda item: item[1], reverse=True)\n",
    "    for word, count in sorted_words_desc:\n",
    "        print(f\"{word}: {count}\")\n",
    "\n",
    "if __name__ == \"__main__\":\n",
    "    main()\n"
   ]
  },
  {
   "cell_type": "markdown",
   "metadata": {},
   "source": [
    "5. Write a function that takes two 'Counter' objects and returns their sum."
   ]
  },
  {
   "cell_type": "code",
   "execution_count": 5,
   "metadata": {},
   "outputs": [
    {
     "name": "stdout",
     "output_type": "stream",
     "text": [
      "Counter 1: Counter({'item2': 34, 'item3': 22, 'item1': 10})\n",
      "Counter 2: Counter({'item2': 20, 'item1': 12, 'item3': 10})\n",
      "Sum Counter: Counter({'item2': 54, 'item3': 32, 'item1': 22})\n"
     ]
    }
   ],
   "source": [
    "from collections import Counter\n",
    "\n",
    "def add_counters(ctr1, ctr2):\n",
    "    return ctr1 + ctr2\n",
    "\n",
    "def main():\n",
    "    counter1 = Counter({'item1': 10, 'item2': 34, 'item3': 22})\n",
    "    counter2 = Counter({'item1': 12, 'item2': 20, 'item3': 10})\n",
    "    \n",
    "    result_counter = add_counters(counter1, counter2)\n",
    "    \n",
    "    print(\"Counter 1:\", counter1)\n",
    "    print(\"Counter 2:\", counter2)\n",
    "    print(\"Sum Counter:\", result_counter)\n",
    "\n",
    "if __name__ == \"__main__\":\n",
    "    main()\n"
   ]
  },
  {
   "cell_type": "markdown",
   "metadata": {},
   "source": [
    "6. Write a  Python program that creates a 'Counter' for a list of items and converts it to a list of unique items with their counts."
   ]
  },
  {
   "cell_type": "code",
   "execution_count": 8,
   "metadata": {},
   "outputs": [
    {
     "name": "stdout",
     "output_type": "stream",
     "text": [
      "Original List: ['Red', 'Green', 'Black', 'Black', 'Red', 'red', 'Orange', 'Pink', 'Pink', 'Red', 'White']\n",
      "Counter: Counter({'Red': 3, 'Black': 2, 'Pink': 2, 'Green': 1, 'red': 1, 'Orange': 1, 'White': 1})\n",
      "Unique Items with Counts: [('Red', 3), ('Green', 1), ('Black', 2), ('red', 1), ('Orange', 1), ('Pink', 2), ('White', 1)]\n"
     ]
    }
   ],
   "source": [
    "from collections import Counter\n",
    "\n",
    "def main():\n",
    "    items = [\"Red\", \"Green\", \"Black\", \"Black\", \"Red\", \"red\", \"Orange\", \"Pink\", \"Pink\", \"Red\", \"White\"]\n",
    "    item_counter = Counter(items)\n",
    "    \n",
    "    unique_items_with_counts = list(item_counter.items())\n",
    "    \n",
    "    print(\"Original List:\", items)\n",
    "    print(\"Counter:\", item_counter)\n",
    "    print(\"Unique Items with Counts:\", unique_items_with_counts)\n",
    "\n",
    "if __name__ == \"__main__\":\n",
    "    main()\n"
   ]
  },
  {
   "cell_type": "markdown",
   "metadata": {},
   "source": [
    "7. Write a Python program that creates a 'Counter' for a list of words and removes all items with a count less than a certain value."
   ]
  },
  {
   "cell_type": "code",
   "execution_count": 7,
   "metadata": {},
   "outputs": [
    {
     "name": "stdout",
     "output_type": "stream",
     "text": [
      "Original List: ['Red', 'Green', 'Black', 'Black', 'Red', 'red', 'Orange', 'Pink', 'Pink', 'Red', 'White']\n",
      "Counter: Counter({'Red': 3, 'Black': 2, 'Pink': 2, 'Green': 1, 'red': 1, 'Orange': 1, 'White': 1})\n",
      "Items with Count >= 2: {'Red': 3, 'Black': 2, 'Pink': 2}\n"
     ]
    }
   ],
   "source": [
    "from collections import Counter\n",
    "\n",
    "def main():\n",
    "    colors = [\"Red\", \"Green\", \"Black\", \"Black\", \"Red\", \"red\", \"Orange\", \"Pink\", \"Pink\", \"Red\", \"White\"]\n",
    "    color_counter = Counter(colors)\n",
    "    \n",
    "    min_count = 2\n",
    "    filtered_counter = {word: count for word, count in color_counter.items() if count >= min_count}\n",
    "    \n",
    "    print(\"Original List:\", colors)\n",
    "    print(\"Counter:\", color_counter)\n",
    "    print(f\"Items with Count >= {min_count}:\", filtered_counter)\n",
    "\n",
    "if __name__ == \"__main__\":\n",
    "    main()\n"
   ]
  },
  {
   "cell_type": "markdown",
   "metadata": {},
   "source": [
    "8. Write a  Python program that creates a 'Counter' for a list of items and uses dictionary-style access to update the count of specific items."
   ]
  },
  {
   "cell_type": "code",
   "execution_count": 9,
   "metadata": {},
   "outputs": [
    {
     "name": "stdout",
     "output_type": "stream",
     "text": [
      "Original Counter:\n",
      "Counter({'Red': 4, 'Black': 2, 'Pink': 2, 'Green': 1, 'Orange': 1, 'White': 1})\n",
      "\n",
      "Updated Counter:\n",
      "Counter({'Red': 6, 'Black': 2, 'Pink': 2, 'Green': 1, 'White': 1, 'Orange': 0})\n"
     ]
    }
   ],
   "source": [
    "from collections import Counter\n",
    "\n",
    "def main():\n",
    "    items = ['Red', 'Green', 'Black', 'Black', 'Red', 'Red', 'Orange', 'Pink', 'Pink', 'Red', 'White']\n",
    "    \n",
    "    # Create a Counter for the list of items\n",
    "    counter = Counter(items)\n",
    "    \n",
    "    print(\"Original Counter:\")\n",
    "    print(counter)\n",
    "    \n",
    "    # Update the count of specific items using dictionary-style access\n",
    "    counter['Red'] += 2\n",
    "    counter['Orange'] -= 1\n",
    "    \n",
    "    print(\"\\nUpdated Counter:\")\n",
    "    print(counter)\n",
    "\n",
    "if __name__ == \"__main__\":\n",
    "    main()\n"
   ]
  }
 ],
 "metadata": {
  "kernelspec": {
   "display_name": "Python 3",
   "language": "python",
   "name": "python3"
  },
  "language_info": {
   "codemirror_mode": {
    "name": "ipython",
    "version": 3
   },
   "file_extension": ".py",
   "mimetype": "text/x-python",
   "name": "python",
   "nbconvert_exporter": "python",
   "pygments_lexer": "ipython3",
   "version": "3.12.2"
  }
 },
 "nbformat": 4,
 "nbformat_minor": 2
}
