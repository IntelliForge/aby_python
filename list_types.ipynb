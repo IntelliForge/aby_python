{
 "cells": [
  {
   "cell_type": "markdown",
   "metadata": {},
   "source": [
    "1. Write a Python program to sum all the items in a list."
   ]
  },
  {
   "cell_type": "code",
   "execution_count": 3,
   "metadata": {},
   "outputs": [],
   "source": [
    "# Define a function called sum_list that takes a list 'items' as input\n",
    "def sum_list(items):\n",
    "    # Initialize a variable 'sum_numbers' to store the sum of the numbers\n",
    "    sum_numbers = 0\n",
    "    # Iterate through each element 'x' in the input list 'items'\n",
    "    for x in items:\n",
    "        # Add the current element 'x' to the 'sum_numbers' variable\n",
    "        sum_numbers += x\n",
    "    # Return the final sum of the numbers\n",
    "    return sum_numbers"
   ]
  },
  {
   "cell_type": "code",
   "execution_count": 4,
   "metadata": {},
   "outputs": [
    {
     "data": {
      "text/plain": [
       "-5"
      ]
     },
     "execution_count": 4,
     "metadata": {},
     "output_type": "execute_result"
    }
   ],
   "source": [
    "# Call the sum_list function with the list [1, 2, -8] as input and print the result\n",
    "sum_list([1, 2, -8])"
   ]
  },
  {
   "cell_type": "markdown",
   "metadata": {},
   "source": [
    "2. Write a Python program to multiply all the items in a list."
   ]
  },
  {
   "cell_type": "code",
   "execution_count": 2,
   "metadata": {},
   "outputs": [
    {
     "name": "stdout",
     "output_type": "stream",
     "text": [
      "-16\n"
     ]
    }
   ],
   "source": [
    "# Define a function called multiply_list that takes a list 'items' as input\n",
    "def multiply_list(items):\n",
    "    # Initialize a variable 'tot' to store the product of the numbers, starting with 1\n",
    "    tot = 1\n",
    "    # Iterate through each element 'x' in the input list 'items'\n",
    "    for x in items:\n",
    "        # Multiply the current element 'x' with the 'tot' variable\n",
    "        tot *= x\n",
    "    # Return the final product of the numbers\n",
    "    return tot\n",
    "\n",
    "# Call the multiply_list function with the list [1, 2, -8] as input and print the result\n",
    "print(multiply_list([1, 2, -8]))"
   ]
  },
  {
   "cell_type": "markdown",
   "metadata": {},
   "source": [
    "3. Write a Python program to get the largest number from a list."
   ]
  },
  {
   "cell_type": "code",
   "execution_count": 3,
   "metadata": {},
   "outputs": [
    {
     "name": "stdout",
     "output_type": "stream",
     "text": [
      "2\n"
     ]
    }
   ],
   "source": [
    "# Define a function called max_num_in_list that takes a list 'list' as input\n",
    "def max_num_in_list(list):\n",
    "    # Initialize a variable 'max' with the first element of the input list as the initial maximum\n",
    "    max = list[0]\n",
    "    # Iterate through each element 'a' in the input list 'list'\n",
    "    for a in list:\n",
    "        # Check if the current element 'a' is greater than the current maximum 'max'\n",
    "        if a > max:\n",
    "            # If 'a' is greater, update the maximum 'max' to 'a'\n",
    "            max = a\n",
    "    # Return the final maximum value in the list\n",
    "    return max\n",
    "\n",
    "# Call the max_num_in_list function with the list [1, 2, -8, 0] as input and print the result\n",
    "print(max_num_in_list([1, 2, -8, 0]))"
   ]
  },
  {
   "cell_type": "markdown",
   "metadata": {},
   "source": [
    "4. Write a Python program to get the smallest number from a list."
   ]
  },
  {
   "cell_type": "code",
   "execution_count": 4,
   "metadata": {},
   "outputs": [
    {
     "name": "stdout",
     "output_type": "stream",
     "text": [
      "-8\n"
     ]
    }
   ],
   "source": [
    "# Define a function called smallest_num_in_list that takes a list 'list' as input\n",
    "def smallest_num_in_list(list):\n",
    "    # Initialize a variable 'min' with the first element of the input list as the initial minimum\n",
    "    min = list[0]\n",
    "    # Iterate through each element 'a' in the input list 'list'\n",
    "    for a in list:\n",
    "        # Check if the current element 'a' is smaller than the current minimum 'min'\n",
    "        if a < min:\n",
    "            # If 'a' is smaller, update the minimum 'min' to 'a'\n",
    "            min = a\n",
    "    # Return the final minimum value in the list\n",
    "    return min\n",
    "\n",
    "# Call the smallest_num_in_list function with the list [1, 2, -8, 0] as input and print the result\n",
    "print(smallest_num_in_list([1, 2, -8, 0])) "
   ]
  },
  {
   "cell_type": "markdown",
   "metadata": {},
   "source": [
    "5. Write a Python program to remove duplicates from a list."
   ]
  },
  {
   "cell_type": "code",
   "execution_count": 5,
   "metadata": {},
   "outputs": [
    {
     "name": "stdout",
     "output_type": "stream",
     "text": [
      "{40, 10, 80, 50, 20, 60, 30}\n"
     ]
    }
   ],
   "source": [
    "# Define a list 'a' with some duplicate and unique elements\n",
    "a = [10, 20, 30, 20, 10, 50, 60, 40, 80, 50, 40]\n",
    "\n",
    "# Create an empty set to store duplicate items and an empty list for unique items\n",
    "dup_items = set()\n",
    "uniq_items = []\n",
    "\n",
    "# Iterate through each element 'x' in the list 'a'\n",
    "for x in a:\n",
    "    # Check if the current element 'x' is not already in the set 'dup_items' (it's a duplicate check)\n",
    "    if x not in dup_items:\n",
    "        # If 'x' is not a duplicate, add it to the 'uniq_items' list\n",
    "        uniq_items.append(x)\n",
    "        # Add 'x' to the 'dup_items' set to mark it as a seen item\n",
    "        dup_items.add(x)\n",
    "\n",
    "# Print the set 'dup_items' which now contains the unique elements from the original list 'a'\n",
    "print(dup_items) "
   ]
  },
  {
   "cell_type": "markdown",
   "metadata": {},
   "source": [
    "6. Write a Python program to check if a list is empty or not."
   ]
  },
  {
   "cell_type": "code",
   "execution_count": 6,
   "metadata": {},
   "outputs": [
    {
     "name": "stdout",
     "output_type": "stream",
     "text": [
      "List is empty\n"
     ]
    }
   ],
   "source": [
    "# Create an empty list 'l'\n",
    "l = []\n",
    "\n",
    "# Check if the list 'l' is empty using the 'not' keyword\n",
    "if not l:\n",
    "    # If the list is empty, print the message \"List is empty\"\n",
    "    print(\"List is empty\")"
   ]
  },
  {
   "cell_type": "markdown",
   "metadata": {},
   "source": [
    "7. Write a Python function that takes two lists and returns True if they have at least one common member."
   ]
  },
  {
   "cell_type": "code",
   "execution_count": 8,
   "metadata": {},
   "outputs": [
    {
     "name": "stdout",
     "output_type": "stream",
     "text": [
      "True\n",
      "None\n"
     ]
    }
   ],
   "source": [
    "# Define a function called 'common_data' that takes two lists, 'list1' and 'list2', as input\n",
    "def common_data(list1, list2):\n",
    "    # Initialize a variable 'result' to False to indicate no common elements initially\n",
    "    result = False\n",
    "\n",
    "    # Iterate through each element 'x' in 'list1'\n",
    "    for x in list1:\n",
    "        # Iterate through each element 'y' in 'list2'\n",
    "        for y in list2:\n",
    "            # Check if the current elements 'x' and 'y' are equal\n",
    "            if x == y:\n",
    "                # If there's a common element, set 'result' to True and return it\n",
    "                result = True\n",
    "                return result\n",
    "# Call the 'common_data' function with two lists and print the result\n",
    "print(common_data([1, 2, 3, 4, 5], [5, 6, 7, 8, 9]))\n",
    "# Call the 'common_data' function with two lists and print the result\n",
    "print(common_data([1, 2, 3, 4, 5], [6, 7, 8, 9])) "
   ]
  }
 ],
 "metadata": {
  "kernelspec": {
   "display_name": "dblearn",
   "language": "python",
   "name": "python3"
  },
  "language_info": {
   "codemirror_mode": {
    "name": "ipython",
    "version": 3
   },
   "file_extension": ".py",
   "mimetype": "text/x-python",
   "name": "python",
   "nbconvert_exporter": "python",
   "pygments_lexer": "ipython3",
   "version": "3.12.1"
  }
 },
 "nbformat": 4,
 "nbformat_minor": 2
}
