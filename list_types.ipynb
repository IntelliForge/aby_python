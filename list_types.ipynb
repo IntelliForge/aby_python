{
 "cells": [
  {
   "cell_type": "markdown",
   "metadata": {},
   "source": [
    "Write a Python program to sum all the items in a list."
   ]
  },
  {
   "cell_type": "code",
   "execution_count": 3,
   "metadata": {},
   "outputs": [],
   "source": [
    "# Define a function called sum_list that takes a list 'items' as input\n",
    "def sum_list(items):\n",
    "    # Initialize a variable 'sum_numbers' to store the sum of the numbers\n",
    "    sum_numbers = 0\n",
    "    # Iterate through each element 'x' in the input list 'items'\n",
    "    for x in items:\n",
    "        # Add the current element 'x' to the 'sum_numbers' variable\n",
    "        sum_numbers += x\n",
    "    # Return the final sum of the numbers\n",
    "    return sum_numbers"
   ]
  },
  {
   "cell_type": "code",
   "execution_count": 4,
   "metadata": {},
   "outputs": [
    {
     "data": {
      "text/plain": [
       "-5"
      ]
     },
     "execution_count": 4,
     "metadata": {},
     "output_type": "execute_result"
    }
   ],
   "source": [
    "# Call the sum_list function with the list [1, 2, -8] as input and print the result\n",
    "sum_list([1, 2, -8])"
   ]
  }
 ],
 "metadata": {
  "kernelspec": {
   "display_name": "dblearn",
   "language": "python",
   "name": "python3"
  },
  "language_info": {
   "codemirror_mode": {
    "name": "ipython",
    "version": 3
   },
   "file_extension": ".py",
   "mimetype": "text/x-python",
   "name": "python",
   "nbconvert_exporter": "python",
   "pygments_lexer": "ipython3",
   "version": "3.12.1"
  }
 },
 "nbformat": 4,
 "nbformat_minor": 2
}
