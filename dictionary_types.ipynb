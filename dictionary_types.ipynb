{
 "cells": [
  {
   "cell_type": "markdown",
   "metadata": {},
   "source": [
    "1. Write a Python program to sort (ascending and descending) a dictionary by value."
   ]
  },
  {
   "cell_type": "code",
   "execution_count": 3,
   "metadata": {},
   "outputs": [
    {
     "name": "stdout",
     "output_type": "stream",
     "text": [
      "Original dictionary :  {1: 2, 3: 4, 4: 3, 2: 1, 0: 0}\n"
     ]
    }
   ],
   "source": [
    "# Import the 'operator' module, which provides functions for common operations like sorting.\n",
    "import operator\n",
    "\n",
    "# Create a dictionary 'd' with key-value pairs.\n",
    "d = {1: 2, 3: 4, 4: 3, 2: 1, 0: 0}\n",
    "\t\n",
    "# Print the original dictionary 'd'.\n",
    "print('Original dictionary : ',d)"
   ]
  },
  {
   "cell_type": "code",
   "execution_count": 4,
   "metadata": {},
   "outputs": [
    {
     "name": "stdout",
     "output_type": "stream",
     "text": [
      "Dictionary in ascending order by value :  [(0, 0), (2, 1), (1, 2), (4, 3), (3, 4)]\n"
     ]
    }
   ],
   "source": [
    "# Sort the items (key-value pairs) in the dictionary 'd' based on the values (1st element of each pair).\n",
    "# The result is a list of sorted key-value pairs.\n",
    "sorted_d = sorted(d.items(), key=operator.itemgetter(1))\n",
    "\n",
    "# Print the dictionary 'sorted_d' in ascending order by value.\n",
    "print('Dictionary in ascending order by value : ',sorted_d)"
   ]
  },
  {
   "cell_type": "code",
   "execution_count": 5,
   "metadata": {},
   "outputs": [
    {
     "name": "stdout",
     "output_type": "stream",
     "text": [
      "Dictionary in descending order by value :  {3: 4, 4: 3, 1: 2, 2: 1, 0: 0}\n"
     ]
    }
   ],
   "source": [
    "# Convert the sorted list of key-value pairs back into a dictionary.\n",
    "# The 'reverse=True' argument sorts the list in descending order by value.\n",
    "sorted_d = dict( sorted(d.items(), key=operator.itemgetter(1), reverse=True))\n",
    "\n",
    "# Print the dictionary 'sorted_d' in descending order by value.\n",
    "print('Dictionary in descending order by value : ',sorted_d)  "
   ]
  },
  {
   "cell_type": "markdown",
   "metadata": {},
   "source": [
    "2. Write a Python program to add a key to a dictionary."
   ]
  },
  {
   "cell_type": "code",
   "execution_count": 1,
   "metadata": {},
   "outputs": [
    {
     "name": "stdout",
     "output_type": "stream",
     "text": [
      "{0: 10, 1: 20}\n"
     ]
    }
   ],
   "source": [
    "# Create a dictionary 'd' with two key-value pairs.\n",
    "d = {0: 10, 1: 20}\n",
    "\n",
    "# Print the original dictionary 'd'.\n",
    "print(d)"
   ]
  },
  {
   "cell_type": "code",
   "execution_count": 2,
   "metadata": {},
   "outputs": [
    {
     "name": "stdout",
     "output_type": "stream",
     "text": [
      "{0: 10, 1: 20, 2: 30}\n"
     ]
    }
   ],
   "source": [
    "d.update({2: 30})\n",
    "\n",
    "# Print the dictionary 'd' after the update, which now includes the new key-value pair.\n",
    "print(d) "
   ]
  },
  {
   "cell_type": "markdown",
   "metadata": {},
   "source": [
    "3. Write a Python program to check whether a given key already exists in a dictionary."
   ]
  },
  {
   "cell_type": "code",
   "execution_count": 9,
   "metadata": {},
   "outputs": [
    {
     "name": "stdout",
     "output_type": "stream",
     "text": [
      "Key is present in the dictionary\n"
     ]
    }
   ],
   "source": [
    "# Create a dictionary 'd' with key-value pairs.\n",
    "d = {1: 10, 2: 20, 3: 30, 4: 40, 5: 50, 6: 60}\n",
    "\n",
    "# Define a function 'is_key_present' that takes an argument 'x'.\n",
    "def is_key_present(x):\n",
    "    # Check if 'x' is a key in the dictionary 'd'.\n",
    "    if x in d:\n",
    "        # If 'x' is present in 'd', print a message indicating that the key is present.\n",
    "        print('Key is present in the dictionary')\n",
    "    else:\n",
    "        # If 'x' is not present in 'd', print a message indicating that the key is not present.\n",
    "        print('Key is not present in the dictionary')\n",
    "\n",
    "# Call the 'is_key_present' function with the argument 5 to check if 5 is a key in the dictionary.\n",
    "is_key_present(5)"
   ]
  },
  {
   "cell_type": "code",
   "execution_count": 10,
   "metadata": {},
   "outputs": [
    {
     "name": "stdout",
     "output_type": "stream",
     "text": [
      "Key is not present in the dictionary\n"
     ]
    }
   ],
   "source": [
    "# Call the 'is_key_present' function with the argument 9 to check if 9 is a key in the dictionary.\n",
    "is_key_present(9) "
   ]
  },
  {
   "cell_type": "markdown",
   "metadata": {},
   "source": [
    "4. Write a Python program to iterate over dictionaries using for loops."
   ]
  },
  {
   "cell_type": "code",
   "execution_count": 11,
   "metadata": {},
   "outputs": [
    {
     "name": "stdout",
     "output_type": "stream",
     "text": [
      "x -> 10\n",
      "y -> 20\n",
      "z -> 30\n"
     ]
    }
   ],
   "source": [
    "# Create a dictionary 'd' with key-value pairs.\n",
    "d = {'x': 10, 'y': 20, 'z': 30} \n",
    "\n",
    "# Iterate through the key-value pairs in the dictionary using a for loop.\n",
    "# 'dict_key' represents the key, and 'dict_value' represents the value for each pair.\n",
    "for dict_key, dict_value in d.items():\n",
    "    # Print the key followed by '->' and the corresponding value.\n",
    "    print(dict_key, '->', dict_value)"
   ]
  },
  {
   "cell_type": "markdown",
   "metadata": {},
   "source": [
    "5. Write a Python script to generate and print a dictionary that contains a number (between 1 and n) in the form (x, x*x)."
   ]
  },
  {
   "cell_type": "code",
   "execution_count": 14,
   "metadata": {},
   "outputs": [
    {
     "name": "stdout",
     "output_type": "stream",
     "text": [
      "{1: 1, 2: 4, 3: 9, 4: 16, 5: 25}\n"
     ]
    }
   ],
   "source": [
    "# Prompt the user to input a number and store it in the variable 'n'.\n",
    "n = int(input(\"Input a number \"))\n",
    "\n",
    "# Create an empty dictionary 'd' to store the square of numbers.\n",
    "d = dict()\n",
    "\n",
    "# Iterate through numbers from 1 to 'n' (inclusive).\n",
    "for x in range(1, n + 1):\n",
    "    # Calculate the square of each number and store it in the dictionary 'd' with the number as the key.\n",
    "    d[x] = x * x\n",
    "\n",
    "# Print the dictionary 'd' containing the squares of numbers from 1 to 'n'.\n",
    "print(d) "
   ]
  },
  {
   "cell_type": "markdown",
   "metadata": {},
   "source": [
    "6. Write a Python script to merge two Python dictionaries."
   ]
  },
  {
   "cell_type": "code",
   "execution_count": 16,
   "metadata": {},
   "outputs": [
    {
     "name": "stdout",
     "output_type": "stream",
     "text": [
      "{'a': 100, 'b': 200, 'x': 300, 'y': 200}\n"
     ]
    }
   ],
   "source": [
    "# Create the first dictionary 'd1' with key-value pairs.\n",
    "d1 = {'a': 100, 'b': 200}\n",
    "\n",
    "# Create the second dictionary 'd2' with key-value pairs.\n",
    "d2 = {'x': 300, 'y': 200}\n",
    "\n",
    "# Create a new dictionary 'd' and initialize it as a copy of 'd1'.\n",
    "d = d1.copy()\n",
    "\n",
    "# Update the dictionary 'd' by adding key-value pairs from 'd2'.\n",
    "d.update(d2)\n",
    "\n",
    "# Print the dictionary 'd' after combining the key-value pairs from 'd1' and 'd2.\n",
    "print(d) "
   ]
  },
  {
   "cell_type": "markdown",
   "metadata": {},
   "source": [
    "7. Write a Python program to sum all the items in a dictionary."
   ]
  },
  {
   "cell_type": "code",
   "execution_count": 17,
   "metadata": {},
   "outputs": [
    {
     "name": "stdout",
     "output_type": "stream",
     "text": [
      "293\n"
     ]
    }
   ],
   "source": [
    "# Create a dictionary 'my_dict' with key-value pairs.\n",
    "my_dict = {'data1': 100, 'data2': -54, 'data3': 247}\n",
    "# Use the 'sum' function to calculate the sum of all values in the 'my_dict' dictionary.\n",
    "# 'my_dict.values()' extracts the values from the dictionary, and 'sum' calculates their sum.\n",
    "result = sum(my_dict.values())\n",
    "# Print the result, which is the sum of the values.\n",
    "print(result) "
   ]
  },
  {
   "cell_type": "markdown",
   "metadata": {},
   "source": [
    "8. Write a  Python program to multiply all the items in a dictionary."
   ]
  },
  {
   "cell_type": "code",
   "execution_count": 1,
   "metadata": {},
   "outputs": [
    {
     "name": "stdout",
     "output_type": "stream",
     "text": [
      "-1333800\n"
     ]
    }
   ],
   "source": [
    "my_dict = {'data1': 100, 'data2': -54, 'data3': 247}\n",
    "\n",
    "result = 1\n",
    "\n",
    "for key in my_dict:\n",
    "    \n",
    "    result = result * my_dict[key]\n",
    "\n",
    "print(result) "
   ]
  },
  {
   "cell_type": "markdown",
   "metadata": {},
   "source": [
    "9. Write a  Python program to remove a key from a dictionary."
   ]
  },
  {
   "cell_type": "code",
   "execution_count": 4,
   "metadata": {},
   "outputs": [
    {
     "name": "stdout",
     "output_type": "stream",
     "text": [
      "{'a': 1, 'b': 2, 'c': 3, 'd': 4}\n",
      "{'a': 1, 'c': 3, 'd': 4}\n"
     ]
    }
   ],
   "source": [
    "myDict = {'a': 1, 'b': 2, 'c': 3, 'd': 4}\n",
    "\n",
    "print(myDict)\n",
    "\n",
    "if 'b' in myDict:\n",
    "    \n",
    "    del myDict['b']\n",
    "\n",
    "print(myDict)\n"
   ]
  },
  {
   "cell_type": "markdown",
   "metadata": {},
   "source": [
    "10 .Write a  Python program to map two lists into a dictionary."
   ]
  },
  {
   "cell_type": "code",
   "execution_count": 5,
   "metadata": {},
   "outputs": [
    {
     "name": "stdout",
     "output_type": "stream",
     "text": [
      "{'red': '#FF0000', 'green': '#008000', 'blue': '#0000FF'}\n"
     ]
    }
   ],
   "source": [
    "\n",
    "keys = ['red', 'green', 'blue']\n",
    "\n",
    "values = ['#FF0000', '#008000', '#0000FF']\n",
    "\n",
    "color_dictionary = dict(zip(keys, values))\n",
    "\n",
    "print(color_dictionary)"
   ]
  },
  {
   "cell_type": "markdown",
   "metadata": {},
   "source": [
    "11. Write a  Python program to sort a given dictionary by key"
   ]
  },
  {
   "cell_type": "code",
   "execution_count": 6,
   "metadata": {},
   "outputs": [
    {
     "name": "stdout",
     "output_type": "stream",
     "text": [
      "black: #000000\n",
      "green: #008000\n",
      "red: #FF0000\n",
      "white: #FFFFFF\n"
     ]
    }
   ],
   "source": [
    "# Create a dictionary 'color_dict' with color names as keys and their corresponding color codes in hexadecimal format as values.\n",
    "color_dict = {\n",
    "    'red': '#FF0000',\n",
    "    'green': '#008000',\n",
    "    'black': '#000000',\n",
    "    'white': '#FFFFFF'\n",
    "}\n",
    "\n",
    "# Iterate through the keys of the 'color_dict' dictionary after sorting them in lexicographical order.\n",
    "for key in sorted(color_dict):\n",
    "    # Print each key-value pair where '%s' is a placeholder for the key and its associated color code.\n",
    "    print(\"%s: %s\" % (key, color_dict[key]))\n",
    "\t"
   ]
  },
  {
   "cell_type": "markdown",
   "metadata": {},
   "source": [
    "12. Write a  Python program to get the maximum and minimum values of a dictionary."
   ]
  },
  {
   "cell_type": "code",
   "execution_count": 8,
   "metadata": {},
   "outputs": [],
   "source": [
    "\n",
    "my_dict = {'x': 500, 'y': 5874, 'z': 560}\n",
    "\n",
    "key_max = max(my_dict.keys(), key=(lambda k: my_dict[k]))\n",
    "\n",
    "key_min = min(my_dict.keys(), key=(lambda k: my_dict[k]))"
   ]
  },
  {
   "cell_type": "code",
   "execution_count": 9,
   "metadata": {},
   "outputs": [
    {
     "name": "stdout",
     "output_type": "stream",
     "text": [
      "Maximum Value:  5874\n"
     ]
    }
   ],
   "source": [
    "print('Maximum Value: ', my_dict[key_max])"
   ]
  },
  {
   "cell_type": "code",
   "execution_count": 10,
   "metadata": {},
   "outputs": [
    {
     "name": "stdout",
     "output_type": "stream",
     "text": [
      "Minimum Value:  500\n"
     ]
    }
   ],
   "source": [
    "print('Minimum Value: ', my_dict[key_min])"
   ]
  },
  {
   "cell_type": "markdown",
   "metadata": {},
   "source": [
    "13. Write a  Python program to get a dictionary from an object's fields."
   ]
  },
  {
   "cell_type": "code",
   "execution_count": 11,
   "metadata": {},
   "outputs": [
    {
     "name": "stdout",
     "output_type": "stream",
     "text": [
      "{'x': 'red', 'y': 'Yellow', 'z': 'Green'}\n"
     ]
    }
   ],
   "source": [
    "class dictObj(object):\n",
    "    \n",
    "    def __init__(self):\n",
    "        \n",
    "        self.x = 'red'\n",
    "        self.y = 'Yellow'\n",
    "        self.z = 'Green'\n",
    "    \n",
    "    def do_nothing(self):\n",
    "        pass\n",
    "\n",
    "test = dictObj()\n",
    "\n",
    "print(test.__dict__) "
   ]
  },
  {
   "cell_type": "markdown",
   "metadata": {},
   "source": [
    "14. Write a  Python program to remove duplicates from the dictionary."
   ]
  },
  {
   "cell_type": "code",
   "execution_count": 12,
   "metadata": {},
   "outputs": [
    {
     "name": "stdout",
     "output_type": "stream",
     "text": [
      "{'id1': {'name': ['Sara'], 'class': ['V'], 'subject_integration': ['english, math, science']}, 'id2': {'name': ['David'], 'class': ['V'], 'subject_integration': ['english, math, science']}, 'id4': {'name': ['Surya'], 'class': ['V'], 'subject_integration': ['english, math, science']}}\n"
     ]
    }
   ],
   "source": [
    "\n",
    "student_data = {\n",
    "    'id1': {\n",
    "        'name': ['Sara'],\n",
    "        'class': ['V'],\n",
    "        'subject_integration': ['english, math, science']\n",
    "    },\n",
    "    'id2': {\n",
    "        'name': ['David'],\n",
    "        'class': ['V'],\n",
    "        'subject_integration': ['english, math, science']\n",
    "    },\n",
    "    'id3': {\n",
    "        'name': ['Sara'],\n",
    "        'class': ['V'],\n",
    "        'subject_integration': ['english, math, science']\n",
    "    },\n",
    "    'id4': {\n",
    "        'name': ['Surya'],\n",
    "        'class': ['V'],\n",
    "        'subject_integration': ['english, math, science']\n",
    "    }\n",
    "}\n",
    "\n",
    "result = {}\n",
    "\n",
    "for key, value in student_data.items():\n",
    "    \n",
    "    if value not in result.values():\n",
    "        \n",
    "        result[key] = value\n",
    "\n",
    "print(result) "
   ]
  },
  {
   "cell_type": "markdown",
   "metadata": {},
   "source": [
    "15. Write a  Python program to check if a dictionary is empty or not."
   ]
  },
  {
   "cell_type": "code",
   "execution_count": 18,
   "metadata": {},
   "outputs": [
    {
     "name": "stdout",
     "output_type": "stream",
     "text": [
      "Dictionary is empty\n"
     ]
    }
   ],
   "source": [
    "my_dict = {}\n",
    "\n",
    "if not bool(my_dict):\n",
    "\n",
    "    print(\"Dictionary is empty\")"
   ]
  },
  {
   "cell_type": "markdown",
   "metadata": {},
   "source": [
    "16.  Write a Python program to find the highest 3 values of corresponding keys in a dictionary."
   ]
  },
  {
   "cell_type": "code",
   "execution_count": 19,
   "metadata": {},
   "outputs": [
    {
     "name": "stdout",
     "output_type": "stream",
     "text": [
      "['b', 'e', 'c']\n"
     ]
    }
   ],
   "source": [
    "\n",
    "from heapq import nlargest\n",
    "\n",
    "my_dict = {'a': 500, 'b': 5874, 'c': 560, 'd': 400, 'e': 5874, 'f': 20}\n",
    "\n",
    "three_largest = nlargest(3, my_dict, key=my_dict.get)\n",
    "\n",
    "print(three_largest)"
   ]
  },
  {
   "cell_type": "markdown",
   "metadata": {},
   "source": [
    "17. Write a  Python program to print a dictionary in table format."
   ]
  },
  {
   "cell_type": "code",
   "execution_count": 20,
   "metadata": {},
   "outputs": [
    {
     "name": "stdout",
     "output_type": "stream",
     "text": [
      "C1 C2 C3\n",
      "1 5 9\n",
      "2 6 10\n",
      "3 7 11\n"
     ]
    }
   ],
   "source": [
    "\n",
    "my_dict = {'C1': [1, 2, 3], 'C2': [5, 6, 7], 'C3': [9, 10, 11]}\n",
    "\n",
    "for row in zip(*([key] + (value) for key, value in sorted(my_dict.items()))):\n",
    "    \n",
    "    print(*row)\n"
   ]
  },
  {
   "cell_type": "markdown",
   "metadata": {},
   "source": [
    "18. Write a Python program to convert a list into a nested dictionary of keys."
   ]
  },
  {
   "cell_type": "code",
   "execution_count": 21,
   "metadata": {},
   "outputs": [
    {
     "name": "stdout",
     "output_type": "stream",
     "text": [
      "{1: {2: {3: {4: {}}}}}\n"
     ]
    }
   ],
   "source": [
    "\n",
    "num_list = [1, 2, 3, 4]\n",
    "\n",
    "new_dict = current = {}\n",
    "\n",
    "for name in num_list:\n",
    "\n",
    "    current[name] = {}\n",
    "    \n",
    "    current = current[name]\n",
    "\n",
    "print(new_dict)"
   ]
  },
  {
   "cell_type": "markdown",
   "metadata": {},
   "source": [
    "19. Write a  Python program to sort a list alphabetically in a dictionary."
   ]
  },
  {
   "cell_type": "code",
   "execution_count": 22,
   "metadata": {},
   "outputs": [
    {
     "name": "stdout",
     "output_type": "stream",
     "text": [
      "{'n1': [1, 2, 3], 'n2': [1, 2, 5], 'n3': [2, 3, 4]}\n"
     ]
    }
   ],
   "source": [
    "num = {'n1': [2, 3, 1], 'n2': [5, 1, 2], 'n3': [3, 2, 4]}\n",
    "\n",
    "sorted_dict = {x: sorted(y) for x, y in num.items()}\n",
    "\n",
    "print(sorted_dict)"
   ]
  },
  {
   "cell_type": "markdown",
   "metadata": {},
   "source": [
    "20. Write a  Python program to remove spaces from dictionary keys."
   ]
  },
  {
   "cell_type": "code",
   "execution_count": 23,
   "metadata": {},
   "outputs": [
    {
     "name": "stdout",
     "output_type": "stream",
     "text": [
      "Original dictionary:  {'S  001': ['Math', 'Science'], 'S    002': ['Math', 'English']}\n"
     ]
    }
   ],
   "source": [
    "# Create a dictionary 'student_list' with keys containing extra spaces and associated lists of subjects.\n",
    "student_list = {'S  001': ['Math', 'Science'], 'S    002': ['Math', 'English']}\n",
    "\n",
    "# Print a message indicating the start of the code section.\n",
    "print(\"Original dictionary: \", student_list)"
   ]
  },
  {
   "cell_type": "code",
   "execution_count": 25,
   "metadata": {},
   "outputs": [
    {
     "name": "stdout",
     "output_type": "stream",
     "text": [
      "New dictionary:  {'S001': ['Math', 'Science'], 'S002': ['Math', 'English']}\n"
     ]
    }
   ],
   "source": [
    "student_dict = {x.translate({32: None}): y for x, y in student_list.items()}\n",
    "\n",
    "print(\"New dictionary: \", student_dict) "
   ]
  },
  {
   "cell_type": "markdown",
   "metadata": {},
   "source": [
    "21. Write a  Python program to get the key, value and item in a dictionary."
   ]
  },
  {
   "cell_type": "code",
   "execution_count": 26,
   "metadata": {},
   "outputs": [
    {
     "name": "stdout",
     "output_type": "stream",
     "text": [
      "key  value  count\n",
      "1     10      1\n",
      "2     20      2\n",
      "3     30      3\n",
      "4     40      4\n",
      "5     50      5\n",
      "6     60      6\n"
     ]
    }
   ],
   "source": [
    "dict_num = {1: 10, 2: 20, 3: 30, 4: 40, 5: 50, 6: 60}\n",
    "\n",
    "print(\"key  value  count\")\n",
    "\n",
    "for count, (key, value) in enumerate(dict_num.items(), 1):\n",
    "    \n",
    "    print(key, '   ', value, '    ', count) "
   ]
  },
  {
   "cell_type": "markdown",
   "metadata": {},
   "source": [
    "22. Write a  Python program to print a dictionary line by line."
   ]
  },
  {
   "cell_type": "code",
   "execution_count": 27,
   "metadata": {},
   "outputs": [
    {
     "name": "stdout",
     "output_type": "stream",
     "text": [
      "Aex\n",
      "class : V\n",
      "roll_id : 2\n",
      "Puja\n",
      "class : V\n",
      "roll_id : 3\n"
     ]
    }
   ],
   "source": [
    "students = {'Aex': {'class': 'V', 'roll_id': 2}, 'Puja': {'class': 'V', 'roll_id': 3}}\n",
    "\n",
    "for a in students:\n",
    "    \n",
    "    print(a)\n",
    "    \n",
    "    for b in students[a]:\n",
    "        \n",
    "        print(b, ':', students[a][b])"
   ]
  },
  {
   "cell_type": "markdown",
   "metadata": {},
   "source": [
    "23. Write a Python program to check if multiple keys exist in a dictionary."
   ]
  },
  {
   "cell_type": "code",
   "execution_count": 28,
   "metadata": {},
   "outputs": [
    {
     "name": "stdout",
     "output_type": "stream",
     "text": [
      "True\n"
     ]
    }
   ],
   "source": [
    "student = {\n",
    "  'name': 'Alex',\n",
    "  'class': 'V',\n",
    "  'roll_id': '2'\n",
    "}\n",
    "\n",
    "print(student.keys() >= {'class', 'name'})"
   ]
  },
  {
   "cell_type": "code",
   "execution_count": 29,
   "metadata": {},
   "outputs": [
    {
     "name": "stdout",
     "output_type": "stream",
     "text": [
      "False\n"
     ]
    }
   ],
   "source": [
    "print(student.keys() >= {'name', 'Alex'})"
   ]
  },
  {
   "cell_type": "code",
   "execution_count": 30,
   "metadata": {},
   "outputs": [
    {
     "name": "stdout",
     "output_type": "stream",
     "text": [
      "True\n"
     ]
    }
   ],
   "source": [
    "print(student.keys() >= {'roll_id', 'name'}) "
   ]
  },
  {
   "cell_type": "markdown",
   "metadata": {},
   "source": [
    "24. Write a  Python program to count the number of items in a dictionary value that is a list."
   ]
  },
  {
   "cell_type": "code",
   "execution_count": 31,
   "metadata": {},
   "outputs": [
    {
     "name": "stdout",
     "output_type": "stream",
     "text": [
      "5\n"
     ]
    }
   ],
   "source": [
    "dict =  {'Alex': ['subj1', 'subj2', 'subj3'], 'David': ['subj1', 'subj2']}\n",
    "\n",
    "ctr = sum(map(len, dict.values()))\n",
    "\n",
    "print(ctr) \n"
   ]
  },
  {
   "cell_type": "markdown",
   "metadata": {},
   "source": [
    "25. Write a  Python program to replace dictionary values with their sums."
   ]
  },
  {
   "cell_type": "code",
   "execution_count": 32,
   "metadata": {},
   "outputs": [
    {
     "name": "stdout",
     "output_type": "stream",
     "text": [
      "[{'id': 1, 'subject': 'math', 'V+VI': 76.0}, {'id': 2, 'subject': 'math', 'V+VI': 73.5}, {'id': 3, 'subject': 'math', 'V+VI': 80.5}]\n"
     ]
    }
   ],
   "source": [
    "def sum_math_v_vi_average(list_of_dicts):\n",
    "    \n",
    "    for d in list_of_dicts:\n",
    "        \n",
    "        n1 = d.pop('V')\n",
    "        n2 = d.pop('VI')\n",
    "        \n",
    "        d['V+VI'] = (n1 + n2) / 2\n",
    "    \n",
    "    return list_of_dicts\n",
    "\n",
    "student_details = [\n",
    "  {'id': 1, 'subject': 'math', 'V': 70, 'VI': 82},\n",
    "  {'id': 2, 'subject': 'math', 'V': 73, 'VI': 74},\n",
    "  {'id': 3, 'subject': 'math', 'V': 75, 'VI': 86}\n",
    "]\n",
    "\n",
    "print(sum_math_v_vi_average(student_details)) "
   ]
  },
  {
   "cell_type": "markdown",
   "metadata": {},
   "source": [
    "26. Write a  Python program to get the top three items in a shop."
   ]
  },
  {
   "cell_type": "code",
   "execution_count": 34,
   "metadata": {},
   "outputs": [
    {
     "name": "stdout",
     "output_type": "stream",
     "text": [
      "item4 55\n",
      "item1 45.5\n",
      "item3 41.3\n"
     ]
    }
   ],
   "source": [
    "from heapq import nlargest\n",
    "from operator import itemgetter\n",
    "\n",
    "items = {'item1': 45.50, 'item2': 35, 'item3': 41.30, 'item4': 55, 'item5': 24}\n",
    "\n",
    "for name, value in nlargest(3, items.items(), key=itemgetter(1)):\n",
    "    print(name, value) "
   ]
  },
  {
   "cell_type": "markdown",
   "metadata": {},
   "source": [
    "27. Write a  Python program to create a dictionary from a string."
   ]
  },
  {
   "cell_type": "code",
   "execution_count": 35,
   "metadata": {},
   "outputs": [
    {
     "name": "stdout",
     "output_type": "stream",
     "text": [
      "{'w': 1, '3': 1, 'r': 2, 'e': 2, 's': 1, 'o': 1, 'u': 1, 'c': 1}\n"
     ]
    }
   ],
   "source": [
    "from collections import defaultdict, Counter\n",
    "\n",
    "str1 = 'w3resource'\n",
    "\n",
    "my_dict = {}\n",
    "\n",
    "for letter in str1:\n",
    "    my_dict[letter] = my_dict.get(letter, 0) + 1\n",
    "\n",
    "print(my_dict) "
   ]
  },
  {
   "cell_type": "markdown",
   "metadata": {},
   "source": [
    "28. Write a  Python program to combine two dictionary by adding values for common keys."
   ]
  },
  {
   "cell_type": "code",
   "execution_count": 36,
   "metadata": {},
   "outputs": [
    {
     "name": "stdout",
     "output_type": "stream",
     "text": [
      "Counter({'a': 400, 'b': 400, 'd': 400, 'c': 300})\n"
     ]
    }
   ],
   "source": [
    "from collections import Counter\n",
    "\n",
    "d1 = {'a': 100, 'b': 200, 'c': 300}\n",
    "d2 = {'a': 300, 'b': 200, 'd': 400}\n",
    "\n",
    "d = Counter(d1) + Counter(d2)\n",
    "\n",
    "print(d)"
   ]
  },
  {
   "cell_type": "markdown",
   "metadata": {},
   "source": [
    "29. Write a  Python program to create and display all combinations of letters, selecting each letter from a different key in a dictionary."
   ]
  },
  {
   "cell_type": "code",
   "execution_count": 37,
   "metadata": {},
   "outputs": [
    {
     "name": "stdout",
     "output_type": "stream",
     "text": [
      "ac\n",
      "ad\n",
      "bc\n",
      "bd\n"
     ]
    }
   ],
   "source": [
    "import itertools\n",
    "\n",
    "d = {'1': ['a', 'b'], '2': ['c', 'd']}\n",
    "\n",
    "for combo in itertools.product(*[d[k] for k in sorted(d.keys())]):\n",
    "    \n",
    "    print(''.join(combo))"
   ]
  },
  {
   "cell_type": "markdown",
   "metadata": {},
   "source": [
    "30. Write a  Python program to access dictionary key's element by index."
   ]
  },
  {
   "cell_type": "code",
   "execution_count": 38,
   "metadata": {},
   "outputs": [
    {
     "name": "stdout",
     "output_type": "stream",
     "text": [
      "\n",
      "Access the keys of the dictionary as a list:\n",
      "physics\n",
      "math\n",
      "chemistry\n"
     ]
    }
   ],
   "source": [
    "num = {'physics': 80, 'math': 90, 'chemistry': 86}\n",
    "\n",
    "print(\"\\nAccess the keys of the dictionary as a list:\")\n",
    "\n",
    "print(list(num)[0])\n",
    "\n",
    "print(list(num)[1])\n",
    "\n",
    "print(list(num)[2])"
   ]
  }
 ],
 "metadata": {
  "kernelspec": {
   "display_name": "dblearn",
   "language": "python",
   "name": "python3"
  },
  "language_info": {
   "codemirror_mode": {
    "name": "ipython",
    "version": 3
   },
   "file_extension": ".py",
   "mimetype": "text/x-python",
   "name": "python",
   "nbconvert_exporter": "python",
   "pygments_lexer": "ipython3",
   "version": "3.12.1"
  }
 },
 "nbformat": 4,
 "nbformat_minor": 2
}
