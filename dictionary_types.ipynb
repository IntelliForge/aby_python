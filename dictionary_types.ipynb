{
 "cells": [
  {
   "cell_type": "markdown",
   "metadata": {},
   "source": [
    "1. Write a Python program to sort (ascending and descending) a dictionary by value."
   ]
  },
  {
   "cell_type": "code",
   "execution_count": 3,
   "metadata": {},
   "outputs": [
    {
     "name": "stdout",
     "output_type": "stream",
     "text": [
      "Original dictionary :  {1: 2, 3: 4, 4: 3, 2: 1, 0: 0}\n"
     ]
    }
   ],
   "source": [
    "# Import the 'operator' module, which provides functions for common operations like sorting.\n",
    "import operator\n",
    "\n",
    "# Create a dictionary 'd' with key-value pairs.\n",
    "d = {1: 2, 3: 4, 4: 3, 2: 1, 0: 0}\n",
    "\t\n",
    "# Print the original dictionary 'd'.\n",
    "print('Original dictionary : ',d)"
   ]
  },
  {
   "cell_type": "code",
   "execution_count": 4,
   "metadata": {},
   "outputs": [
    {
     "name": "stdout",
     "output_type": "stream",
     "text": [
      "Dictionary in ascending order by value :  [(0, 0), (2, 1), (1, 2), (4, 3), (3, 4)]\n"
     ]
    }
   ],
   "source": [
    "# Sort the items (key-value pairs) in the dictionary 'd' based on the values (1st element of each pair).\n",
    "# The result is a list of sorted key-value pairs.\n",
    "sorted_d = sorted(d.items(), key=operator.itemgetter(1))\n",
    "\n",
    "# Print the dictionary 'sorted_d' in ascending order by value.\n",
    "print('Dictionary in ascending order by value : ',sorted_d)"
   ]
  },
  {
   "cell_type": "code",
   "execution_count": 5,
   "metadata": {},
   "outputs": [
    {
     "name": "stdout",
     "output_type": "stream",
     "text": [
      "Dictionary in descending order by value :  {3: 4, 4: 3, 1: 2, 2: 1, 0: 0}\n"
     ]
    }
   ],
   "source": [
    "# Convert the sorted list of key-value pairs back into a dictionary.\n",
    "# The 'reverse=True' argument sorts the list in descending order by value.\n",
    "sorted_d = dict( sorted(d.items(), key=operator.itemgetter(1), reverse=True))\n",
    "\n",
    "# Print the dictionary 'sorted_d' in descending order by value.\n",
    "print('Dictionary in descending order by value : ',sorted_d)  "
   ]
  },
  {
   "cell_type": "markdown",
   "metadata": {},
   "source": [
    "2. Write a Python program to add a key to a dictionary."
   ]
  },
  {
   "cell_type": "code",
   "execution_count": 1,
   "metadata": {},
   "outputs": [
    {
     "name": "stdout",
     "output_type": "stream",
     "text": [
      "{0: 10, 1: 20}\n"
     ]
    }
   ],
   "source": [
    "# Create a dictionary 'd' with two key-value pairs.\n",
    "d = {0: 10, 1: 20}\n",
    "\n",
    "# Print the original dictionary 'd'.\n",
    "print(d)"
   ]
  },
  {
   "cell_type": "code",
   "execution_count": 2,
   "metadata": {},
   "outputs": [
    {
     "name": "stdout",
     "output_type": "stream",
     "text": [
      "{0: 10, 1: 20, 2: 30}\n"
     ]
    }
   ],
   "source": [
    "d.update({2: 30})\n",
    "\n",
    "# Print the dictionary 'd' after the update, which now includes the new key-value pair.\n",
    "print(d) "
   ]
  },
  {
   "cell_type": "markdown",
   "metadata": {},
   "source": [
    "3. Write a Python program to check whether a given key already exists in a dictionary."
   ]
  },
  {
   "cell_type": "code",
   "execution_count": 9,
   "metadata": {},
   "outputs": [
    {
     "name": "stdout",
     "output_type": "stream",
     "text": [
      "Key is present in the dictionary\n"
     ]
    }
   ],
   "source": [
    "# Create a dictionary 'd' with key-value pairs.\n",
    "d = {1: 10, 2: 20, 3: 30, 4: 40, 5: 50, 6: 60}\n",
    "\n",
    "# Define a function 'is_key_present' that takes an argument 'x'.\n",
    "def is_key_present(x):\n",
    "    # Check if 'x' is a key in the dictionary 'd'.\n",
    "    if x in d:\n",
    "        # If 'x' is present in 'd', print a message indicating that the key is present.\n",
    "        print('Key is present in the dictionary')\n",
    "    else:\n",
    "        # If 'x' is not present in 'd', print a message indicating that the key is not present.\n",
    "        print('Key is not present in the dictionary')\n",
    "\n",
    "# Call the 'is_key_present' function with the argument 5 to check if 5 is a key in the dictionary.\n",
    "is_key_present(5)"
   ]
  },
  {
   "cell_type": "code",
   "execution_count": 10,
   "metadata": {},
   "outputs": [
    {
     "name": "stdout",
     "output_type": "stream",
     "text": [
      "Key is not present in the dictionary\n"
     ]
    }
   ],
   "source": [
    "# Call the 'is_key_present' function with the argument 9 to check if 9 is a key in the dictionary.\n",
    "is_key_present(9) "
   ]
  },
  {
   "cell_type": "markdown",
   "metadata": {},
   "source": [
    "4. Write a Python program to iterate over dictionaries using for loops."
   ]
  },
  {
   "cell_type": "code",
   "execution_count": 11,
   "metadata": {},
   "outputs": [
    {
     "name": "stdout",
     "output_type": "stream",
     "text": [
      "x -> 10\n",
      "y -> 20\n",
      "z -> 30\n"
     ]
    }
   ],
   "source": [
    "# Create a dictionary 'd' with key-value pairs.\n",
    "d = {'x': 10, 'y': 20, 'z': 30} \n",
    "\n",
    "# Iterate through the key-value pairs in the dictionary using a for loop.\n",
    "# 'dict_key' represents the key, and 'dict_value' represents the value for each pair.\n",
    "for dict_key, dict_value in d.items():\n",
    "    # Print the key followed by '->' and the corresponding value.\n",
    "    print(dict_key, '->', dict_value)"
   ]
  },
  {
   "cell_type": "markdown",
   "metadata": {},
   "source": [
    "5. Write a Python script to generate and print a dictionary that contains a number (between 1 and n) in the form (x, x*x)."
   ]
  },
  {
   "cell_type": "code",
   "execution_count": 14,
   "metadata": {},
   "outputs": [
    {
     "name": "stdout",
     "output_type": "stream",
     "text": [
      "{1: 1, 2: 4, 3: 9, 4: 16, 5: 25}\n"
     ]
    }
   ],
   "source": [
    "# Prompt the user to input a number and store it in the variable 'n'.\n",
    "n = int(input(\"Input a number \"))\n",
    "\n",
    "# Create an empty dictionary 'd' to store the square of numbers.\n",
    "d = dict()\n",
    "\n",
    "# Iterate through numbers from 1 to 'n' (inclusive).\n",
    "for x in range(1, n + 1):\n",
    "    # Calculate the square of each number and store it in the dictionary 'd' with the number as the key.\n",
    "    d[x] = x * x\n",
    "\n",
    "# Print the dictionary 'd' containing the squares of numbers from 1 to 'n'.\n",
    "print(d) "
   ]
  },
  {
   "cell_type": "markdown",
   "metadata": {},
   "source": [
    "6. Write a Python script to merge two Python dictionaries."
   ]
  },
  {
   "cell_type": "code",
   "execution_count": 16,
   "metadata": {},
   "outputs": [
    {
     "name": "stdout",
     "output_type": "stream",
     "text": [
      "{'a': 100, 'b': 200, 'x': 300, 'y': 200}\n"
     ]
    }
   ],
   "source": [
    "# Create the first dictionary 'd1' with key-value pairs.\n",
    "d1 = {'a': 100, 'b': 200}\n",
    "\n",
    "# Create the second dictionary 'd2' with key-value pairs.\n",
    "d2 = {'x': 300, 'y': 200}\n",
    "\n",
    "# Create a new dictionary 'd' and initialize it as a copy of 'd1'.\n",
    "d = d1.copy()\n",
    "\n",
    "# Update the dictionary 'd' by adding key-value pairs from 'd2'.\n",
    "d.update(d2)\n",
    "\n",
    "# Print the dictionary 'd' after combining the key-value pairs from 'd1' and 'd2.\n",
    "print(d) "
   ]
  },
  {
   "cell_type": "markdown",
   "metadata": {},
   "source": [
    "7. Write a Python program to sum all the items in a dictionary."
   ]
  },
  {
   "cell_type": "code",
   "execution_count": 17,
   "metadata": {},
   "outputs": [
    {
     "name": "stdout",
     "output_type": "stream",
     "text": [
      "293\n"
     ]
    }
   ],
   "source": [
    "# Create a dictionary 'my_dict' with key-value pairs.\n",
    "my_dict = {'data1': 100, 'data2': -54, 'data3': 247}\n",
    "# Use the 'sum' function to calculate the sum of all values in the 'my_dict' dictionary.\n",
    "# 'my_dict.values()' extracts the values from the dictionary, and 'sum' calculates their sum.\n",
    "result = sum(my_dict.values())\n",
    "# Print the result, which is the sum of the values.\n",
    "print(result) "
   ]
  }
 ],
 "metadata": {
  "kernelspec": {
   "display_name": "dblearn",
   "language": "python",
   "name": "python3"
  },
  "language_info": {
   "codemirror_mode": {
    "name": "ipython",
    "version": 3
   },
   "file_extension": ".py",
   "mimetype": "text/x-python",
   "name": "python",
   "nbconvert_exporter": "python",
   "pygments_lexer": "ipython3",
   "version": "3.12.1"
  }
 },
 "nbformat": 4,
 "nbformat_minor": 2
}
