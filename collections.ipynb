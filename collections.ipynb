{
 "cells": [
  {
   "cell_type": "markdown",
   "metadata": {},
   "source": [
    "1. Write a  Python program that iterates over elements as many times as its count."
   ]
  },
  {
   "cell_type": "code",
   "execution_count": 1,
   "metadata": {},
   "outputs": [
    {
     "name": "stdout",
     "output_type": "stream",
     "text": [
      "['p', 'p', 'p', 'p', 'q', 'q']\n"
     ]
    }
   ],
   "source": [
    "from collections import Counter\n",
    "\n",
    "c = Counter(p=4, q=2, r=0, s=-2)\n",
    "\n",
    "print(list(c.elements())) "
   ]
  },
  {
   "cell_type": "markdown",
   "metadata": {},
   "source": [
    "2. Write a  Python program to find the most common elements and their counts in a specified text."
   ]
  },
  {
   "cell_type": "code",
   "execution_count": 2,
   "metadata": {},
   "outputs": [
    {
     "name": "stdout",
     "output_type": "stream",
     "text": [
      "Original string: lkseropewdssafsdfafkpwe\n",
      "Most common three characters of the said string:\n",
      "[('s', 4), ('e', 3), ('f', 3)]\n"
     ]
    }
   ],
   "source": [
    "from collections import Counter\n",
    "\n",
    "s = 'lkseropewdssafsdfafkpwe'\n",
    "\n",
    "print(\"Original string: \" + s)\n",
    "\n",
    "print(\"Most common three characters of the said string:\")\n",
    "\n",
    "print(Counter(s).most_common(3)) "
   ]
  },
  {
   "cell_type": "markdown",
   "metadata": {},
   "source": [
    "3. Write a  Python program to create a new deque with three items and iterate over the deque's elements."
   ]
  },
  {
   "cell_type": "code",
   "execution_count": 3,
   "metadata": {},
   "outputs": [
    {
     "name": "stdout",
     "output_type": "stream",
     "text": [
      "a\n",
      "e\n",
      "i\n",
      "o\n",
      "u\n"
     ]
    }
   ],
   "source": [
    "from collections import deque\n",
    "\n",
    "dq = deque('aeiou')\n",
    "\n",
    "for element in dq:\n",
    "   print(element) "
   ]
  },
  {
   "cell_type": "markdown",
   "metadata": {},
   "source": [
    "4. Write a  Python program that accepts the number of subjects, subject names and marks. Input the number of subjects and then the subject name and marks separated by a space on the next line. Print the subject name and marks in order of appearance."
   ]
  },
  {
   "cell_type": "code",
   "execution_count": 7,
   "metadata": {},
   "outputs": [
    {
     "name": "stdout",
     "output_type": "stream",
     "text": [
      "english 60\n",
      "maths 55\n",
      "hindi 30\n"
     ]
    }
   ],
   "source": [
    "import collections, re\n",
    "\n",
    "n = int(input(\"Number of subjects: \"))\n",
    "\n",
    "item_order = collections.OrderedDict()\n",
    "\n",
    "for i in range(n):\n",
    "   sub_marks_list = re.split(r'(\\d+)$', input(\"Input Subject name and marks: \").strip())\n",
    "   subject_name = sub_marks_list[0]\n",
    "   item_price = int(sub_marks_list[1])\n",
    "   \n",
    "   if subject_name not in item_order:\n",
    "       item_order[subject_name] = item_price\n",
    "   else:\n",
    "       item_order[subject_name] = item_order[subject_name] + item_price\n",
    "\n",
    "for i in item_order:\n",
    "   print(i + str(item_order[i]))"
   ]
  },
  {
   "cell_type": "markdown",
   "metadata": {},
   "source": [
    "5. Write a  Python program to create a deque and append a few elements to the left and right. Next, remove some elements from the left and right sides and reverse the deque."
   ]
  },
  {
   "cell_type": "code",
   "execution_count": 10,
   "metadata": {},
   "outputs": [
    {
     "name": "stdout",
     "output_type": "stream",
     "text": [
      "deque(['Red', 'Green', 'White'])\n",
      "\n",
      "Adding to the left: \n",
      "deque(['Pink', 'Red', 'Green', 'White'])\n",
      "\n",
      "Adding to the right: \n",
      "deque(['Pink', 'Red', 'Green', 'White', 'Orange'])\n",
      "\n",
      "Removing from the right: \n",
      "deque(['Pink', 'Red', 'Green', 'White'])\n",
      "\n",
      "Removing from the left: \n",
      "deque(['Red', 'Green', 'White'])\n",
      "\n",
      "Reversing the deque: \n",
      "deque(['White', 'Green', 'Red'])\n"
     ]
    }
   ],
   "source": [
    "import collections\n",
    "\n",
    "deque_colors = collections.deque([\"Red\", \"Green\", \"White\"])\n",
    "\n",
    "print(deque_colors)\n",
    "\n",
    "print(\"\\nAdding to the left: \")\n",
    "deque_colors.appendleft(\"Pink\")\n",
    "print(deque_colors)\n",
    "\n",
    "print(\"\\nAdding to the right: \")\n",
    "deque_colors.append(\"Orange\")\n",
    "print(deque_colors)\n",
    "\n",
    "print(\"\\nRemoving from the right: \")\n",
    "deque_colors.pop()\n",
    "print(deque_colors)\n",
    "\n",
    "print(\"\\nRemoving from the left: \")\n",
    "deque_colors.popleft()\n",
    "print(deque_colors)\n",
    "\n",
    "print(\"\\nReversing the deque: \")\n",
    "deque_colors.reverse()\n",
    "print(deque_colors) "
   ]
  },
  {
   "cell_type": "markdown",
   "metadata": {},
   "source": [
    "6. Write a  Python program to create a deque from an existing iterable object."
   ]
  },
  {
   "cell_type": "code",
   "execution_count": 11,
   "metadata": {},
   "outputs": [
    {
     "name": "stdout",
     "output_type": "stream",
     "text": [
      "Original tuple:\n",
      "(2, 4, 6)\n",
      "<class 'tuple'>\n",
      "\n",
      "Original deque:\n",
      "deque([2, 4, 6])\n",
      "New deque from an existing iterable object:\n",
      "deque([2, 2, 4, 6, 8, 10, 12])\n",
      "<class 'collections.deque'>\n"
     ]
    }
   ],
   "source": [
    "import collections\n",
    "\n",
    "even_nums = (2, 4, 6)\n",
    "\n",
    "print(\"Original tuple:\")\n",
    "print(even_nums)\n",
    "\n",
    "print(type(even_nums))\n",
    "\n",
    "even_nums_deque = collections.deque(even_nums)\n",
    "\n",
    "print(\"\\nOriginal deque:\")\n",
    "print(even_nums_deque)\n",
    "\n",
    "even_nums_deque.append(8)\n",
    "even_nums_deque.append(10)\n",
    "even_nums_deque.append(12)\n",
    "\n",
    "even_nums_deque.appendleft(2)\n",
    "\n",
    "print(\"New deque from an existing iterable object:\")\n",
    "print(even_nums_deque)\n",
    "\n",
    "print(type(even_nums_deque)) "
   ]
  },
  {
   "cell_type": "markdown",
   "metadata": {},
   "source": [
    "7. Write a  Python program to add more elements to a deque object from an iterable object."
   ]
  },
  {
   "cell_type": "code",
   "execution_count": 12,
   "metadata": {},
   "outputs": [
    {
     "name": "stdout",
     "output_type": "stream",
     "text": [
      "Even numbers:\n",
      "deque([2, 4, 6, 8, 10])\n",
      "More even numbers:\n",
      "deque([2, 4, 6, 8, 10, 12, 14, 16, 18, 20])\n"
     ]
    }
   ],
   "source": [
    "import collections\n",
    "\n",
    "even_nums = (2, 4, 6, 8, 10)\n",
    "\n",
    "even_deque = collections.deque(even_nums)\n",
    "\n",
    "print(\"Even numbers:\")\n",
    "\n",
    "print(even_deque)\n",
    "\n",
    "more_even_nums = (12, 14, 16, 18, 20)\n",
    "\n",
    "even_deque.extend(more_even_nums)\n",
    "\n",
    "print(\"More even numbers:\")\n",
    "\n",
    "print(even_deque) "
   ]
  },
  {
   "cell_type": "markdown",
   "metadata": {},
   "source": [
    "8. Write a Python program to remove all the elements of a given deque object."
   ]
  },
  {
   "cell_type": "code",
   "execution_count": 13,
   "metadata": {},
   "outputs": [
    {
     "name": "stdout",
     "output_type": "stream",
     "text": [
      "Original Deque object with odd numbers:\n",
      "deque([1, 3, 5, 7, 9])\n",
      "Deque length: 5\n",
      "Deque object after removing all numbers-\n",
      "deque([])\n",
      "Deque length:0\n"
     ]
    }
   ],
   "source": [
    "import collections\n",
    "\n",
    "odd_nums = (1, 3, 5, 7, 9)\n",
    "\n",
    "odd_deque = collections.deque(odd_nums)\n",
    "\n",
    "print(\"Original Deque object with odd numbers:\")\n",
    "\n",
    "print(odd_deque)\n",
    "\n",
    "print(\"Deque length: %d\" % (len(odd_deque)))\n",
    "\n",
    "odd_deque.clear()\n",
    "\n",
    "print(\"Deque object after removing all numbers-\")\n",
    "\n",
    "print(odd_deque)\n",
    "\n",
    "print(\"Deque length:%d\" % (len(odd_deque))) "
   ]
  },
  {
   "cell_type": "markdown",
   "metadata": {},
   "source": [
    "9. Write a  Python program that copies a deque object and verifies shallow copying."
   ]
  },
  {
   "cell_type": "code",
   "execution_count": 14,
   "metadata": {},
   "outputs": [
    {
     "name": "stdout",
     "output_type": "stream",
     "text": [
      "Content of dq1:\n",
      "deque([1, 3, 5, 7, 9])\n",
      "dq2 id:\n",
      "2803674916288\n",
      "\n",
      "Content of dq2:\n",
      "deque([1, 3, 5, 7, 9])\n",
      "dq2 id:\n",
      "2803671949344\n",
      "\n",
      "Checking the first element of dq1 and dq2 are shallow copies:\n",
      "140725160004024\n",
      "140725160004024\n"
     ]
    }
   ],
   "source": [
    "import collections\n",
    "\n",
    "tup1 = (1, 3, 5, 7, 9)\n",
    "\n",
    "dq1 = collections.deque(tup1)\n",
    "\n",
    "dq2 = dq1.copy()\n",
    "\n",
    "print(\"Content of dq1:\")\n",
    "\n",
    "print(dq1)\n",
    "\n",
    "print(\"dq2 id:\")\n",
    "\n",
    "print(id(dq1))\n",
    "\n",
    "print(\"\\nContent of dq2:\")\n",
    "\n",
    "print(dq2)\n",
    "\n",
    "print(\"dq2 id:\")\n",
    "\n",
    "print(id(dq2))\n",
    "\n",
    "print(\"\\nChecking the first element of dq1 and dq2 are shallow copies:\")\n",
    "\n",
    "print(id(dq1[0]))\n",
    "\n",
    "print(id(dq2[0])) \n"
   ]
  },
  {
   "cell_type": "markdown",
   "metadata": {},
   "source": [
    "10. Write a  Python program to find the most common element in a given list."
   ]
  },
  {
   "cell_type": "code",
   "execution_count": 15,
   "metadata": {},
   "outputs": [
    {
     "name": "stdout",
     "output_type": "stream",
     "text": [
      "Original list:\n",
      "['PHP', 'PHP', 'Python', 'PHP', 'Python', 'JS', 'Python', 'Python', 'PHP', 'Python']\n",
      "\n",
      "Most common element of the said list:\n",
      "Python\n"
     ]
    }
   ],
   "source": [
    "from collections import Counter\n",
    "\n",
    "language = ['PHP', 'PHP', 'Python', 'PHP', 'Python', 'JS', 'Python', 'Python', 'PHP', 'Python']\n",
    "\n",
    "print(\"Original list:\")\n",
    "\n",
    "print(language)\n",
    "\n",
    "cnt = Counter(language)\n",
    "\n",
    "print(\"\\nMost common element of the said list:\")\n",
    "\n",
    "print(cnt.most_common(1)[0][0]) "
   ]
  },
  {
   "cell_type": "markdown",
   "metadata": {},
   "source": [
    "11. Write a Python program to find the majority element from a given array of size n using the Collections module."
   ]
  },
  {
   "cell_type": "code",
   "execution_count": 16,
   "metadata": {},
   "outputs": [
    {
     "name": "stdout",
     "output_type": "stream",
     "text": [
      "10\n"
     ]
    }
   ],
   "source": [
    "import collections\n",
    "\n",
    "class Solution(object):\n",
    "    def majorityElement(self, nums):\n",
    "        \"\"\"\n",
    "        :type nums: List[int]\n",
    "        :return type: int\n",
    "        \"\"\"\n",
    "        count_ele = collections.Counter(nums)\n",
    "        \n",
    "        return count_ele.most_common()[0][0]\n",
    "\n",
    "result = Solution().majorityElement([10, 10, 20, 30, 40, 10, 20, 10])\n",
    "\n",
    "print(result)"
   ]
  },
  {
   "cell_type": "markdown",
   "metadata": {},
   "source": [
    "12. Write a Python program to find the item with the highest frequency in a given list."
   ]
  },
  {
   "cell_type": "code",
   "execution_count": 17,
   "metadata": {},
   "outputs": [
    {
     "name": "stdout",
     "output_type": "stream",
     "text": [
      "Original list:\n",
      "[2, 3, 8, 4, 7, 9, 8, 2, 6, 5, 1, 6, 1, 2, 3, 2, 4, 6, 9, 1, 2]\n",
      "\n",
      "Item with the maximum frequency of the said list:\n",
      "(2, 5)\n"
     ]
    }
   ],
   "source": [
    "from collections import defaultdict\n",
    "\n",
    "def max_occurrences(nums):\n",
    "    \n",
    "    dict = defaultdict(int)\n",
    "    \n",
    "    for i in nums:\n",
    "        dict[i] += 1\n",
    "    \n",
    "    result = max(dict.items(), key=lambda x: x[1])\n",
    "    \n",
    "    return result\n",
    "\n",
    "\n",
    "nums = [2, 3, 8, 4, 7, 9, 8, 2, 6, 5, 1, 6, 1, 2, 3, 2, 4, 6, 9, 1, 2]\n",
    "\n",
    "print(\"Original list:\")\n",
    "\n",
    "print(nums)\n",
    "\n",
    "print(\"\\nItem with the maximum frequency of the said list:\")\n",
    "\n",
    "print(max_occurrences(nums)) "
   ]
  },
  {
   "cell_type": "markdown",
   "metadata": {},
   "source": [
    "13. Write a  Python program to count the most and least common characters in a given string."
   ]
  },
  {
   "cell_type": "code",
   "execution_count": 18,
   "metadata": {},
   "outputs": [
    {
     "name": "stdout",
     "output_type": "stream",
     "text": [
      "Original string: \n",
      "hello world\n",
      "\n",
      "Most common character of the said string: l\n",
      "Least common character of the said string: h\n"
     ]
    }
   ],
   "source": [
    "from collections import Counter \n",
    "\n",
    "def max_least_char(str1):\n",
    "    \n",
    "    temp = Counter(str1) \n",
    "    \n",
    "    max_char = max(temp, key=temp.get)\n",
    "    min_char = min(temp, key=temp.get)\n",
    "    \n",
    "    return (max_char, min_char)\n",
    "\n",
    "\n",
    "str1 = \"hello world\"\n",
    "\n",
    "print(\"Original string: \")\n",
    "print(str1)\n",
    "\n",
    "result = max_least_char(str1)\n",
    "\n",
    "print(\"\\nMost common character of the said string:\", result[0])\n",
    "\n",
    "print(\"Least common character of the said string:\", result[1]) "
   ]
  },
  {
   "cell_type": "markdown",
   "metadata": {},
   "source": [
    "14. Write a  Python program to insert an element at the beginning of a given Ordered Dictionary."
   ]
  },
  {
   "cell_type": "code",
   "execution_count": 19,
   "metadata": {},
   "outputs": [
    {
     "name": "stdout",
     "output_type": "stream",
     "text": [
      "Original OrderedDict:\n",
      "OrderedDict({'color1': 'Red', 'color2': 'Green', 'color3': 'Blue'})\n",
      "\n",
      "Updated OrderedDict:\n",
      "OrderedDict({'color4': 'Orange', 'color1': 'Red', 'color2': 'Green', 'color3': 'Blue'})\n"
     ]
    }
   ],
   "source": [
    "from collections import OrderedDict\n",
    "\n",
    "color_orderdict = OrderedDict([('color1', 'Red'), ('color2', 'Green'), ('color3', 'Blue')]) \n",
    "\n",
    "print(\"Original OrderedDict:\")\n",
    "\n",
    "print(color_orderdict)\n",
    "\n",
    "color_orderdict.update({'color4':'Orange'})\n",
    "\n",
    "color_orderdict.move_to_end('color4', last=False)\n",
    "\n",
    "print(\"\\nUpdated OrderedDict:\")\n",
    "\n",
    "print(color_orderdict) "
   ]
  },
  {
   "cell_type": "markdown",
   "metadata": {},
   "source": [
    "15. Write a  Python program to calculate the maximum aggregate from the list of tuples (pairs)."
   ]
  },
  {
   "cell_type": "code",
   "execution_count": 20,
   "metadata": {},
   "outputs": [
    {
     "name": "stdout",
     "output_type": "stream",
     "text": [
      "Original list:\n",
      "[('Juan Whelan', 90), ('Sabah Colley', 88), ('Peter Nichols', 7), ('Juan Whelan', 122), ('Sabah Colley', 84)]\n",
      "\n",
      "Maximum aggregate value of the said list of tuple pair:\n",
      "('Juan Whelan', 212)\n"
     ]
    }
   ],
   "source": [
    "from collections import defaultdict\n",
    "\n",
    "def max_aggregate(st_data):\n",
    "    \n",
    "    temp = defaultdict(int)\n",
    "    \n",
    "    \n",
    "    for name, marks in st_data:\n",
    "        \n",
    "        temp[name] += marks\n",
    "    \n",
    "    return max(temp.items(), key=lambda x: x[1])\n",
    "\n",
    "students = [('Juan Whelan', 90), ('Sabah Colley', 88), ('Peter Nichols', 7), ('Juan Whelan', 122), ('Sabah Colley', 84)]\n",
    "\n",
    "print(\"Original list:\")\n",
    "\n",
    "print(students)\n",
    "\n",
    "print(\"\\nMaximum aggregate value of the said list of tuple pair:\")\n",
    "\n",
    "print(max_aggregate(students)) "
   ]
  },
  {
   "cell_type": "markdown",
   "metadata": {},
   "source": [
    "16. Write a  Python program to find the difference between two lists including duplicate elements. Use the collections module."
   ]
  },
  {
   "cell_type": "code",
   "execution_count": 21,
   "metadata": {},
   "outputs": [
    {
     "name": "stdout",
     "output_type": "stream",
     "text": [
      "Original lists:\n",
      "[3, 3, 4, 7]\n"
     ]
    }
   ],
   "source": [
    "from collections import Counter\n",
    "\n",
    "l1 = [1, 1, 2, 3, 3, 4, 4, 5, 6, 7]\n",
    "l2 = [1, 1, 2, 4, 5, 6]\n",
    "\n",
    "print(\"Original lists:\")\n",
    "\n",
    "c1 = Counter(l1)\n",
    "\n",
    "c2 = Counter(l2)\n",
    "\n",
    "diff = c1 - c2\n",
    "\n",
    "print(list(diff.elements())) "
   ]
  },
  {
   "cell_type": "markdown",
   "metadata": {},
   "source": [
    "17. Write a  Python program to count the most common words in a dictionary."
   ]
  },
  {
   "cell_type": "code",
   "execution_count": 22,
   "metadata": {},
   "outputs": [
    {
     "name": "stdout",
     "output_type": "stream",
     "text": [
      "[('pink', 6), ('black', 5), ('white', 5), ('red', 4)]\n"
     ]
    }
   ],
   "source": [
    "words = [\n",
    "   'red', 'green', 'black', 'pink', 'black', 'white', 'black', 'eyes',\n",
    "   'white', 'black', 'orange', 'pink', 'pink', 'red', 'red', 'white', 'orange',\n",
    "   'white', \"black\", 'pink', 'green', 'green', 'pink', 'green', 'pink',\n",
    "   'white', 'orange', \"orange\", 'red'\n",
    "]\n",
    "\n",
    "from collections import Counter\n",
    "\n",
    "word_counts = Counter(words)\n",
    "\n",
    "top_four = word_counts.most_common(4)\n",
    "\n",
    "print(top_four) "
   ]
  },
  {
   "cell_type": "markdown",
   "metadata": {},
   "source": [
    "18. Write a  Python program to find the class wise roll number from a tuple-of-tuples."
   ]
  },
  {
   "cell_type": "code",
   "execution_count": 23,
   "metadata": {},
   "outputs": [
    {
     "name": "stdout",
     "output_type": "stream",
     "text": [
      "defaultdict(<class 'list'>, {'V': [1, 2], 'VI': [1, 2, 3], 'VII': [1]})\n"
     ]
    }
   ],
   "source": [
    "from collections import defaultdict\n",
    "\n",
    "classes = (\n",
    "    ('V', 1),\n",
    "    ('VI', 1),\n",
    "    ('V', 2),\n",
    "    ('VI', 2),\n",
    "    ('VI', 3),\n",
    "    ('VII', 1),\n",
    ")\n",
    "\n",
    "class_rollno = defaultdict(list)\n",
    "\n",
    "for class_name, roll_id in classes:\n",
    "    \n",
    "    class_rollno[class_name].append(roll_id)\n",
    "\n",
    "print(class_rollno)"
   ]
  }
 ],
 "metadata": {
  "kernelspec": {
   "display_name": "Python 3",
   "language": "python",
   "name": "python3"
  },
  "language_info": {
   "codemirror_mode": {
    "name": "ipython",
    "version": 3
   },
   "file_extension": ".py",
   "mimetype": "text/x-python",
   "name": "python",
   "nbconvert_exporter": "python",
   "pygments_lexer": "ipython3",
   "version": "3.12.2"
  }
 },
 "nbformat": 4,
 "nbformat_minor": 2
}
