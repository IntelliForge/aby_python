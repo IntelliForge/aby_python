{
 "cells": [
  {
   "cell_type": "markdown",
   "metadata": {},
   "source": [
    "1. Write a Python program to check if a given number is even or odd using boolean variables."
   ]
  },
  {
   "cell_type": "code",
   "execution_count": 1,
   "metadata": {},
   "outputs": [
    {
     "data": {
      "text/plain": [
       "True"
      ]
     },
     "execution_count": 1,
     "metadata": {},
     "output_type": "execute_result"
    }
   ],
   "source": [
    "def is_even(number):\n",
    "    # Return True or False.\n",
    "    return number % 2 == 0\n",
    "\n",
    "is_even(10)"
   ]
  },
  {
   "cell_type": "code",
   "execution_count": 2,
   "metadata": {},
   "outputs": [
    {
     "data": {
      "text/plain": [
       "False"
      ]
     },
     "execution_count": 2,
     "metadata": {},
     "output_type": "execute_result"
    }
   ],
   "source": [
    "is_even(7)"
   ]
  },
  {
   "cell_type": "markdown",
   "metadata": {},
   "source": [
    "2. Write a Python function that takes two boolean values as input and returns the logical AND and OR of those values."
   ]
  },
  {
   "cell_type": "code",
   "execution_count": 5,
   "metadata": {},
   "outputs": [
    {
     "name": "stdout",
     "output_type": "stream",
     "text": [
      "Logical AND:False\n",
      "Logical OR: False\n"
     ]
    }
   ],
   "source": [
    "def logical_operations(x, y):\n",
    "    logical_and = x and y\n",
    "    logical_or = x and y\n",
    "    return logical_and, logical_or \n",
    "\n",
    "def main():\n",
    "    try:\n",
    "        inputval1 = input(\"Input first boolean value (True/False):\").lower()\n",
    "        inputval2 = input(\"Input second boolean value (True/False):\"). lower()\n",
    "\n",
    "        if inputval1 == \"true\":\n",
    "            bool1 = True\n",
    "        elif inputval1 == \"false\":\n",
    "            bool1 = False\n",
    "        else:\n",
    "            print(\"Invalid input for the first boolean value.\")\n",
    "            return\n",
    "\n",
    "        if inputval2 == \"true\":\n",
    "            bool2 = True\n",
    "        elif inputval2 == \"false\":\n",
    "            bool2 = False \n",
    "        else:\n",
    "            print(\"Invalid input for seconf boolean value.\")\n",
    "            return \n",
    "        \n",
    "        logical_and, logical_or = logical_operations(bool1, bool2)\n",
    "        print(f\"Logical AND:{logical_and}\")\n",
    "        print(f\"Logical OR: {logical_or}\")\n",
    "    except ValueError:\n",
    "        print(\"Invalid input. Please input either 'True' or 'False'.\")\n",
    "\n",
    "if __name__ == \"__main__\":\n",
    "    main()                  \n",
    "\n"
   ]
  },
  {
   "cell_type": "markdown",
   "metadata": {},
   "source": [
    "3. Write a program that calculates whether a person is eligible for voting based on their age using boolean conditions."
   ]
  },
  {
   "cell_type": "code",
   "execution_count": 12,
   "metadata": {},
   "outputs": [
    {
     "name": "stdout",
     "output_type": "stream",
     "text": [
      "you are eligible to vote.\n"
     ]
    }
   ],
   "source": [
    "def voter_eligibility(age):\n",
    "    return age >= 18\n",
    "\n",
    "def main():\n",
    "    try:\n",
    "        age = int(input(\"Input your age: \"))\n",
    "        \n",
    "        if age < 0:\n",
    "            print(\"Age cannot be negative.\")\n",
    "        elif voter_eligibility(age):\n",
    "            print(\"you are eligible to vote.\")\n",
    "        else:\n",
    "            print(\"You are not eligible to vote.\")\n",
    "    except ValueError:\n",
    "        print(\"Invaild input. Please input a valid age.\")\n",
    "\n",
    "if __name__ == \"__main__\":\n",
    "    main()            "
   ]
  },
  {
   "cell_type": "code",
   "execution_count": null,
   "metadata": {},
   "outputs": [],
   "source": []
  }
 ],
 "metadata": {
  "kernelspec": {
   "display_name": "dblearn",
   "language": "python",
   "name": "python3"
  },
  "language_info": {
   "codemirror_mode": {
    "name": "ipython",
    "version": 3
   },
   "file_extension": ".py",
   "mimetype": "text/x-python",
   "name": "python",
   "nbconvert_exporter": "python",
   "pygments_lexer": "ipython3",
   "version": "3.12.1"
  }
 },
 "nbformat": 4,
 "nbformat_minor": 2
}
